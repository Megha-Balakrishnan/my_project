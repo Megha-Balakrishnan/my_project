{
 "cells": [
  {
   "cell_type": "markdown",
   "metadata": {},
   "source": [
    "LIFE STYLE PREDIICTION"
   ]
  },
  {
   "cell_type": "code",
   "execution_count": 1,
   "metadata": {
    "id": "5F9KOI4fTODk"
   },
   "outputs": [],
   "source": [
    "import numpy as np\n",
    "import pandas as pd\n",
    "import os\n",
    "from sklearn.model_selection import train_test_split\n",
    "from sklearn.linear_model import LinearRegression\n",
    "from sklearn.preprocessing import StandardScaler\n",
    "from sklearn.metrics import r2_score"
   ]
  },
  {
   "cell_type": "code",
   "execution_count": 2,
   "metadata": {},
   "outputs": [
    {
     "data": {
      "text/plain": [
       "'D:\\\\MEGHA'"
      ]
     },
     "execution_count": 2,
     "metadata": {},
     "output_type": "execute_result"
    }
   ],
   "source": [
    "os.chdir('D:\\MEGHA')\n",
    "os.getcwd()"
   ]
  },
  {
   "cell_type": "markdown",
   "metadata": {
    "id": "sJE7ZNoDbAnO"
   },
   "source": [
    "data collection and processing"
   ]
  },
  {
   "cell_type": "code",
   "execution_count": 3,
   "metadata": {
    "id": "3H7FLeB4bFsC"
   },
   "outputs": [],
   "source": [
    "# loading csv data to pandas dataframe\n",
    "life_data = pd.read_csv(\"data.csv\")"
   ]
  },
  {
   "cell_type": "code",
   "execution_count": 5,
   "metadata": {
    "colab": {
     "base_uri": "https://localhost:8080/",
     "height": 473
    },
    "id": "uL5NhIubcn5s",
    "outputId": "252cfeac-c82d-45af-f531-8f5469dacd95"
   },
   "outputs": [
    {
     "data": {
      "text/html": [
       "<div>\n",
       "<style scoped>\n",
       "    .dataframe tbody tr th:only-of-type {\n",
       "        vertical-align: middle;\n",
       "    }\n",
       "\n",
       "    .dataframe tbody tr th {\n",
       "        vertical-align: top;\n",
       "    }\n",
       "\n",
       "    .dataframe thead th {\n",
       "        text-align: right;\n",
       "    }\n",
       "</style>\n",
       "<table border=\"1\" class=\"dataframe\">\n",
       "  <thead>\n",
       "    <tr style=\"text-align: right;\">\n",
       "      <th></th>\n",
       "      <th>1</th>\n",
       "      <th>FRUITS_VEGGIES</th>\n",
       "      <th>DAILY_STRESS</th>\n",
       "      <th>PLACES_VISITED</th>\n",
       "      <th>CORE_CIRCLE</th>\n",
       "      <th>SUPPORTING_OTHERS</th>\n",
       "      <th>SOCIAL_NETWORK</th>\n",
       "      <th>ACHIEVEMENT</th>\n",
       "      <th>DONATION</th>\n",
       "      <th>BMI_RANGE</th>\n",
       "      <th>...</th>\n",
       "      <th>SLEEP_HOURS</th>\n",
       "      <th>LOST_VACATION</th>\n",
       "      <th>DAILY_SHOUTING</th>\n",
       "      <th>SUFFICIENT_INCOME</th>\n",
       "      <th>PERSONAL_AWARDS</th>\n",
       "      <th>TIME_FOR_PASSION</th>\n",
       "      <th>WEEKLY_MEDITATION</th>\n",
       "      <th>AGE</th>\n",
       "      <th>GENDER</th>\n",
       "      <th>WORK_LIFE_BALANCE_SCORE</th>\n",
       "    </tr>\n",
       "  </thead>\n",
       "  <tbody>\n",
       "    <tr>\n",
       "      <th>0</th>\n",
       "      <td>07-07-2015</td>\n",
       "      <td>3</td>\n",
       "      <td>2</td>\n",
       "      <td>2</td>\n",
       "      <td>5</td>\n",
       "      <td>0</td>\n",
       "      <td>5</td>\n",
       "      <td>2</td>\n",
       "      <td>0</td>\n",
       "      <td>1</td>\n",
       "      <td>...</td>\n",
       "      <td>7</td>\n",
       "      <td>5</td>\n",
       "      <td>5</td>\n",
       "      <td>1</td>\n",
       "      <td>4</td>\n",
       "      <td>0</td>\n",
       "      <td>5</td>\n",
       "      <td>36 to 50</td>\n",
       "      <td>Female</td>\n",
       "      <td>609.5</td>\n",
       "    </tr>\n",
       "    <tr>\n",
       "      <th>1</th>\n",
       "      <td>07-07-2015</td>\n",
       "      <td>2</td>\n",
       "      <td>3</td>\n",
       "      <td>4</td>\n",
       "      <td>3</td>\n",
       "      <td>8</td>\n",
       "      <td>10</td>\n",
       "      <td>5</td>\n",
       "      <td>2</td>\n",
       "      <td>2</td>\n",
       "      <td>...</td>\n",
       "      <td>8</td>\n",
       "      <td>2</td>\n",
       "      <td>2</td>\n",
       "      <td>2</td>\n",
       "      <td>3</td>\n",
       "      <td>2</td>\n",
       "      <td>6</td>\n",
       "      <td>36 to 50</td>\n",
       "      <td>Female</td>\n",
       "      <td>655.6</td>\n",
       "    </tr>\n",
       "    <tr>\n",
       "      <th>2</th>\n",
       "      <td>07-07-2015</td>\n",
       "      <td>2</td>\n",
       "      <td>3</td>\n",
       "      <td>3</td>\n",
       "      <td>4</td>\n",
       "      <td>4</td>\n",
       "      <td>10</td>\n",
       "      <td>3</td>\n",
       "      <td>2</td>\n",
       "      <td>2</td>\n",
       "      <td>...</td>\n",
       "      <td>8</td>\n",
       "      <td>10</td>\n",
       "      <td>2</td>\n",
       "      <td>2</td>\n",
       "      <td>4</td>\n",
       "      <td>8</td>\n",
       "      <td>3</td>\n",
       "      <td>36 to 50</td>\n",
       "      <td>Female</td>\n",
       "      <td>631.6</td>\n",
       "    </tr>\n",
       "    <tr>\n",
       "      <th>3</th>\n",
       "      <td>07-07-2015</td>\n",
       "      <td>3</td>\n",
       "      <td>3</td>\n",
       "      <td>10</td>\n",
       "      <td>3</td>\n",
       "      <td>10</td>\n",
       "      <td>7</td>\n",
       "      <td>2</td>\n",
       "      <td>5</td>\n",
       "      <td>2</td>\n",
       "      <td>...</td>\n",
       "      <td>5</td>\n",
       "      <td>7</td>\n",
       "      <td>5</td>\n",
       "      <td>1</td>\n",
       "      <td>5</td>\n",
       "      <td>2</td>\n",
       "      <td>0</td>\n",
       "      <td>51 or more</td>\n",
       "      <td>Female</td>\n",
       "      <td>622.7</td>\n",
       "    </tr>\n",
       "    <tr>\n",
       "      <th>4</th>\n",
       "      <td>07-07-2015</td>\n",
       "      <td>5</td>\n",
       "      <td>1</td>\n",
       "      <td>3</td>\n",
       "      <td>3</td>\n",
       "      <td>10</td>\n",
       "      <td>4</td>\n",
       "      <td>2</td>\n",
       "      <td>4</td>\n",
       "      <td>2</td>\n",
       "      <td>...</td>\n",
       "      <td>7</td>\n",
       "      <td>0</td>\n",
       "      <td>0</td>\n",
       "      <td>2</td>\n",
       "      <td>8</td>\n",
       "      <td>1</td>\n",
       "      <td>5</td>\n",
       "      <td>51 or more</td>\n",
       "      <td>Female</td>\n",
       "      <td>663.9</td>\n",
       "    </tr>\n",
       "  </tbody>\n",
       "</table>\n",
       "<p>5 rows × 24 columns</p>\n",
       "</div>"
      ],
      "text/plain": [
       "            1  FRUITS_VEGGIES DAILY_STRESS  PLACES_VISITED  CORE_CIRCLE  \\\n",
       "0  07-07-2015               3            2               2            5   \n",
       "1  07-07-2015               2            3               4            3   \n",
       "2  07-07-2015               2            3               3            4   \n",
       "3  07-07-2015               3            3              10            3   \n",
       "4  07-07-2015               5            1               3            3   \n",
       "\n",
       "   SUPPORTING_OTHERS  SOCIAL_NETWORK  ACHIEVEMENT  DONATION  BMI_RANGE  ...  \\\n",
       "0                  0               5            2         0          1  ...   \n",
       "1                  8              10            5         2          2  ...   \n",
       "2                  4              10            3         2          2  ...   \n",
       "3                 10               7            2         5          2  ...   \n",
       "4                 10               4            2         4          2  ...   \n",
       "\n",
       "   SLEEP_HOURS  LOST_VACATION  DAILY_SHOUTING  SUFFICIENT_INCOME  \\\n",
       "0            7              5               5                  1   \n",
       "1            8              2               2                  2   \n",
       "2            8             10               2                  2   \n",
       "3            5              7               5                  1   \n",
       "4            7              0               0                  2   \n",
       "\n",
       "   PERSONAL_AWARDS  TIME_FOR_PASSION  WEEKLY_MEDITATION         AGE  GENDER  \\\n",
       "0                4                 0                  5    36 to 50  Female   \n",
       "1                3                 2                  6    36 to 50  Female   \n",
       "2                4                 8                  3    36 to 50  Female   \n",
       "3                5                 2                  0  51 or more  Female   \n",
       "4                8                 1                  5  51 or more  Female   \n",
       "\n",
       "   WORK_LIFE_BALANCE_SCORE  \n",
       "0                    609.5  \n",
       "1                    655.6  \n",
       "2                    631.6  \n",
       "3                    622.7  \n",
       "4                    663.9  \n",
       "\n",
       "[5 rows x 24 columns]"
      ]
     },
     "execution_count": 5,
     "metadata": {},
     "output_type": "execute_result"
    }
   ],
   "source": [
    "life_data.head()"
   ]
  },
  {
   "cell_type": "code",
   "execution_count": 6,
   "metadata": {
    "colab": {
     "base_uri": "https://localhost:8080/",
     "height": 386
    },
    "id": "yx8l8Wh9dLZO",
    "outputId": "ed6eea8c-5a9d-4d48-b1cb-38f5bcf263a3"
   },
   "outputs": [
    {
     "data": {
      "text/html": [
       "<div>\n",
       "<style scoped>\n",
       "    .dataframe tbody tr th:only-of-type {\n",
       "        vertical-align: middle;\n",
       "    }\n",
       "\n",
       "    .dataframe tbody tr th {\n",
       "        vertical-align: top;\n",
       "    }\n",
       "\n",
       "    .dataframe thead th {\n",
       "        text-align: right;\n",
       "    }\n",
       "</style>\n",
       "<table border=\"1\" class=\"dataframe\">\n",
       "  <thead>\n",
       "    <tr style=\"text-align: right;\">\n",
       "      <th></th>\n",
       "      <th>1</th>\n",
       "      <th>FRUITS_VEGGIES</th>\n",
       "      <th>DAILY_STRESS</th>\n",
       "      <th>PLACES_VISITED</th>\n",
       "      <th>CORE_CIRCLE</th>\n",
       "      <th>SUPPORTING_OTHERS</th>\n",
       "      <th>SOCIAL_NETWORK</th>\n",
       "      <th>ACHIEVEMENT</th>\n",
       "      <th>DONATION</th>\n",
       "      <th>BMI_RANGE</th>\n",
       "      <th>...</th>\n",
       "      <th>SLEEP_HOURS</th>\n",
       "      <th>LOST_VACATION</th>\n",
       "      <th>DAILY_SHOUTING</th>\n",
       "      <th>SUFFICIENT_INCOME</th>\n",
       "      <th>PERSONAL_AWARDS</th>\n",
       "      <th>TIME_FOR_PASSION</th>\n",
       "      <th>WEEKLY_MEDITATION</th>\n",
       "      <th>AGE</th>\n",
       "      <th>GENDER</th>\n",
       "      <th>WORK_LIFE_BALANCE_SCORE</th>\n",
       "    </tr>\n",
       "  </thead>\n",
       "  <tbody>\n",
       "    <tr>\n",
       "      <th>15967</th>\n",
       "      <td>3/14/21 5:42</td>\n",
       "      <td>3</td>\n",
       "      <td>3</td>\n",
       "      <td>0</td>\n",
       "      <td>4</td>\n",
       "      <td>0</td>\n",
       "      <td>10</td>\n",
       "      <td>0</td>\n",
       "      <td>4</td>\n",
       "      <td>2</td>\n",
       "      <td>...</td>\n",
       "      <td>7</td>\n",
       "      <td>0</td>\n",
       "      <td>1</td>\n",
       "      <td>1</td>\n",
       "      <td>5</td>\n",
       "      <td>2</td>\n",
       "      <td>5</td>\n",
       "      <td>51 or more</td>\n",
       "      <td>Female</td>\n",
       "      <td>644.5</td>\n",
       "    </tr>\n",
       "    <tr>\n",
       "      <th>15968</th>\n",
       "      <td>3/14/21 6:30</td>\n",
       "      <td>3</td>\n",
       "      <td>3</td>\n",
       "      <td>6</td>\n",
       "      <td>8</td>\n",
       "      <td>7</td>\n",
       "      <td>4</td>\n",
       "      <td>6</td>\n",
       "      <td>3</td>\n",
       "      <td>1</td>\n",
       "      <td>...</td>\n",
       "      <td>6</td>\n",
       "      <td>0</td>\n",
       "      <td>0</td>\n",
       "      <td>2</td>\n",
       "      <td>10</td>\n",
       "      <td>5</td>\n",
       "      <td>8</td>\n",
       "      <td>21 to 35</td>\n",
       "      <td>Female</td>\n",
       "      <td>714.9</td>\n",
       "    </tr>\n",
       "    <tr>\n",
       "      <th>15969</th>\n",
       "      <td>3/14/21 8:35</td>\n",
       "      <td>4</td>\n",
       "      <td>3</td>\n",
       "      <td>0</td>\n",
       "      <td>10</td>\n",
       "      <td>10</td>\n",
       "      <td>8</td>\n",
       "      <td>6</td>\n",
       "      <td>5</td>\n",
       "      <td>1</td>\n",
       "      <td>...</td>\n",
       "      <td>7</td>\n",
       "      <td>0</td>\n",
       "      <td>1</td>\n",
       "      <td>2</td>\n",
       "      <td>10</td>\n",
       "      <td>1</td>\n",
       "      <td>10</td>\n",
       "      <td>21 to 35</td>\n",
       "      <td>Male</td>\n",
       "      <td>716.6</td>\n",
       "    </tr>\n",
       "    <tr>\n",
       "      <th>15970</th>\n",
       "      <td>3/14/21 8:43</td>\n",
       "      <td>1</td>\n",
       "      <td>1</td>\n",
       "      <td>10</td>\n",
       "      <td>8</td>\n",
       "      <td>2</td>\n",
       "      <td>7</td>\n",
       "      <td>3</td>\n",
       "      <td>2</td>\n",
       "      <td>1</td>\n",
       "      <td>...</td>\n",
       "      <td>8</td>\n",
       "      <td>7</td>\n",
       "      <td>2</td>\n",
       "      <td>2</td>\n",
       "      <td>1</td>\n",
       "      <td>6</td>\n",
       "      <td>8</td>\n",
       "      <td>21 to 35</td>\n",
       "      <td>Female</td>\n",
       "      <td>682.0</td>\n",
       "    </tr>\n",
       "    <tr>\n",
       "      <th>15971</th>\n",
       "      <td>3/14/21 9:03</td>\n",
       "      <td>5</td>\n",
       "      <td>4</td>\n",
       "      <td>0</td>\n",
       "      <td>2</td>\n",
       "      <td>10</td>\n",
       "      <td>10</td>\n",
       "      <td>5</td>\n",
       "      <td>1</td>\n",
       "      <td>2</td>\n",
       "      <td>...</td>\n",
       "      <td>8</td>\n",
       "      <td>5</td>\n",
       "      <td>2</td>\n",
       "      <td>2</td>\n",
       "      <td>1</td>\n",
       "      <td>8</td>\n",
       "      <td>4</td>\n",
       "      <td>21 to 35</td>\n",
       "      <td>Female</td>\n",
       "      <td>651.4</td>\n",
       "    </tr>\n",
       "  </tbody>\n",
       "</table>\n",
       "<p>5 rows × 24 columns</p>\n",
       "</div>"
      ],
      "text/plain": [
       "                  1  FRUITS_VEGGIES DAILY_STRESS  PLACES_VISITED  CORE_CIRCLE  \\\n",
       "15967  3/14/21 5:42               3            3               0            4   \n",
       "15968  3/14/21 6:30               3            3               6            8   \n",
       "15969  3/14/21 8:35               4            3               0           10   \n",
       "15970  3/14/21 8:43               1            1              10            8   \n",
       "15971  3/14/21 9:03               5            4               0            2   \n",
       "\n",
       "       SUPPORTING_OTHERS  SOCIAL_NETWORK  ACHIEVEMENT  DONATION  BMI_RANGE  \\\n",
       "15967                  0              10            0         4          2   \n",
       "15968                  7               4            6         3          1   \n",
       "15969                 10               8            6         5          1   \n",
       "15970                  2               7            3         2          1   \n",
       "15971                 10              10            5         1          2   \n",
       "\n",
       "       ...  SLEEP_HOURS  LOST_VACATION  DAILY_SHOUTING  SUFFICIENT_INCOME  \\\n",
       "15967  ...            7              0               1                  1   \n",
       "15968  ...            6              0               0                  2   \n",
       "15969  ...            7              0               1                  2   \n",
       "15970  ...            8              7               2                  2   \n",
       "15971  ...            8              5               2                  2   \n",
       "\n",
       "       PERSONAL_AWARDS  TIME_FOR_PASSION  WEEKLY_MEDITATION         AGE  \\\n",
       "15967                5                 2                  5  51 or more   \n",
       "15968               10                 5                  8    21 to 35   \n",
       "15969               10                 1                 10    21 to 35   \n",
       "15970                1                 6                  8    21 to 35   \n",
       "15971                1                 8                  4    21 to 35   \n",
       "\n",
       "       GENDER  WORK_LIFE_BALANCE_SCORE  \n",
       "15967  Female                    644.5  \n",
       "15968  Female                    714.9  \n",
       "15969    Male                    716.6  \n",
       "15970  Female                    682.0  \n",
       "15971  Female                    651.4  \n",
       "\n",
       "[5 rows x 24 columns]"
      ]
     },
     "execution_count": 6,
     "metadata": {},
     "output_type": "execute_result"
    }
   ],
   "source": [
    "life_data.tail()"
   ]
  },
  {
   "cell_type": "code",
   "execution_count": 7,
   "metadata": {
    "colab": {
     "base_uri": "https://localhost:8080/"
    },
    "id": "294ZeEevdViP",
    "outputId": "8adeb903-a2b7-4332-ade0-7478d7bc4c4c"
   },
   "outputs": [
    {
     "name": "stdout",
     "output_type": "stream",
     "text": [
      "1                          0\n",
      "FRUITS_VEGGIES             0\n",
      "DAILY_STRESS               0\n",
      "PLACES_VISITED             0\n",
      "CORE_CIRCLE                0\n",
      "SUPPORTING_OTHERS          0\n",
      "SOCIAL_NETWORK             0\n",
      "ACHIEVEMENT                0\n",
      "DONATION                   0\n",
      "BMI_RANGE                  0\n",
      "TODO_COMPLETED             0\n",
      "FLOW                       0\n",
      "DAILY_STEPS                0\n",
      "LIVE_VISION                0\n",
      "SLEEP_HOURS                0\n",
      "LOST_VACATION              0\n",
      "DAILY_SHOUTING             0\n",
      "SUFFICIENT_INCOME          0\n",
      "PERSONAL_AWARDS            0\n",
      "TIME_FOR_PASSION           0\n",
      "WEEKLY_MEDITATION          0\n",
      "AGE                        0\n",
      "GENDER                     0\n",
      "WORK_LIFE_BALANCE_SCORE    0\n",
      "dtype: int64\n"
     ]
    }
   ],
   "source": [
    "sum=life_data.isnull().sum()\n",
    "print (sum)"
   ]
  },
  {
   "cell_type": "code",
   "execution_count": 8,
   "metadata": {
    "colab": {
     "base_uri": "https://localhost:8080/"
    },
    "id": "4ZeWCEEqdiYG",
    "outputId": "8266d611-937b-477a-9e40-7f33bebf693e"
   },
   "outputs": [
    {
     "data": {
      "text/plain": [
       "(15972, 24)"
      ]
     },
     "execution_count": 8,
     "metadata": {},
     "output_type": "execute_result"
    }
   ],
   "source": [
    "life_data.shape"
   ]
  },
  {
   "cell_type": "code",
   "execution_count": 9,
   "metadata": {
    "colab": {
     "base_uri": "https://localhost:8080/"
    },
    "id": "LGhpr_VVlv54",
    "outputId": "9de310ed-7b92-48c2-ee6a-bdece8a04f4c"
   },
   "outputs": [
    {
     "name": "stdout",
     "output_type": "stream",
     "text": [
      "<class 'pandas.core.frame.DataFrame'>\n",
      "RangeIndex: 15972 entries, 0 to 15971\n",
      "Data columns (total 24 columns):\n",
      " #   Column                   Non-Null Count  Dtype  \n",
      "---  ------                   --------------  -----  \n",
      " 0   1                        15972 non-null  object \n",
      " 1   FRUITS_VEGGIES           15972 non-null  int64  \n",
      " 2   DAILY_STRESS             15972 non-null  object \n",
      " 3   PLACES_VISITED           15972 non-null  int64  \n",
      " 4   CORE_CIRCLE              15972 non-null  int64  \n",
      " 5   SUPPORTING_OTHERS        15972 non-null  int64  \n",
      " 6   SOCIAL_NETWORK           15972 non-null  int64  \n",
      " 7   ACHIEVEMENT              15972 non-null  int64  \n",
      " 8   DONATION                 15972 non-null  int64  \n",
      " 9   BMI_RANGE                15972 non-null  int64  \n",
      " 10  TODO_COMPLETED           15972 non-null  int64  \n",
      " 11  FLOW                     15972 non-null  int64  \n",
      " 12  DAILY_STEPS              15972 non-null  int64  \n",
      " 13  LIVE_VISION              15972 non-null  int64  \n",
      " 14  SLEEP_HOURS              15972 non-null  int64  \n",
      " 15  LOST_VACATION            15972 non-null  int64  \n",
      " 16  DAILY_SHOUTING           15972 non-null  int64  \n",
      " 17  SUFFICIENT_INCOME        15972 non-null  int64  \n",
      " 18  PERSONAL_AWARDS          15972 non-null  int64  \n",
      " 19  TIME_FOR_PASSION         15972 non-null  int64  \n",
      " 20  WEEKLY_MEDITATION        15972 non-null  int64  \n",
      " 21  AGE                      15972 non-null  object \n",
      " 22  GENDER                   15972 non-null  object \n",
      " 23  WORK_LIFE_BALANCE_SCORE  15972 non-null  float64\n",
      "dtypes: float64(1), int64(19), object(4)\n",
      "memory usage: 2.9+ MB\n"
     ]
    }
   ],
   "source": [
    "#getting some info about data\n",
    "life_data.info()"
   ]
  },
  {
   "cell_type": "code",
   "execution_count": 9,
   "metadata": {},
   "outputs": [],
   "source": [
    "#as the daily_stress,Gender,Age object is categorical and the value should be converted to numeric "
   ]
  },
  {
   "cell_type": "code",
   "execution_count": 10,
   "metadata": {
    "colab": {
     "base_uri": "https://localhost:8080/"
    },
    "id": "jADdwMuxmAJ-",
    "outputId": "81049977-dd59-453f-c59f-2f3e5f13b200"
   },
   "outputs": [
    {
     "data": {
      "text/plain": [
       "1                          0\n",
       "FRUITS_VEGGIES             0\n",
       "DAILY_STRESS               0\n",
       "PLACES_VISITED             0\n",
       "CORE_CIRCLE                0\n",
       "SUPPORTING_OTHERS          0\n",
       "SOCIAL_NETWORK             0\n",
       "ACHIEVEMENT                0\n",
       "DONATION                   0\n",
       "BMI_RANGE                  0\n",
       "TODO_COMPLETED             0\n",
       "FLOW                       0\n",
       "DAILY_STEPS                0\n",
       "LIVE_VISION                0\n",
       "SLEEP_HOURS                0\n",
       "LOST_VACATION              0\n",
       "DAILY_SHOUTING             0\n",
       "SUFFICIENT_INCOME          0\n",
       "PERSONAL_AWARDS            0\n",
       "TIME_FOR_PASSION           0\n",
       "WEEKLY_MEDITATION          0\n",
       "AGE                        0\n",
       "GENDER                     0\n",
       "WORK_LIFE_BALANCE_SCORE    0\n",
       "dtype: int64"
      ]
     },
     "execution_count": 10,
     "metadata": {},
     "output_type": "execute_result"
    }
   ],
   "source": [
    "#checking for existing missing values\n",
    "life_data.isnull().sum()"
   ]
  },
  {
   "cell_type": "code",
   "execution_count": 11,
   "metadata": {
    "colab": {
     "base_uri": "https://localhost:8080/",
     "height": 364
    },
    "id": "Ukz3AJvEmdZF",
    "outputId": "2ed50b03-64f9-45a7-9a67-19c35d649fc1"
   },
   "outputs": [
    {
     "data": {
      "text/html": [
       "<div>\n",
       "<style scoped>\n",
       "    .dataframe tbody tr th:only-of-type {\n",
       "        vertical-align: middle;\n",
       "    }\n",
       "\n",
       "    .dataframe tbody tr th {\n",
       "        vertical-align: top;\n",
       "    }\n",
       "\n",
       "    .dataframe thead th {\n",
       "        text-align: right;\n",
       "    }\n",
       "</style>\n",
       "<table border=\"1\" class=\"dataframe\">\n",
       "  <thead>\n",
       "    <tr style=\"text-align: right;\">\n",
       "      <th></th>\n",
       "      <th>FRUITS_VEGGIES</th>\n",
       "      <th>PLACES_VISITED</th>\n",
       "      <th>CORE_CIRCLE</th>\n",
       "      <th>SUPPORTING_OTHERS</th>\n",
       "      <th>SOCIAL_NETWORK</th>\n",
       "      <th>ACHIEVEMENT</th>\n",
       "      <th>DONATION</th>\n",
       "      <th>BMI_RANGE</th>\n",
       "      <th>TODO_COMPLETED</th>\n",
       "      <th>FLOW</th>\n",
       "      <th>DAILY_STEPS</th>\n",
       "      <th>LIVE_VISION</th>\n",
       "      <th>SLEEP_HOURS</th>\n",
       "      <th>LOST_VACATION</th>\n",
       "      <th>DAILY_SHOUTING</th>\n",
       "      <th>SUFFICIENT_INCOME</th>\n",
       "      <th>PERSONAL_AWARDS</th>\n",
       "      <th>TIME_FOR_PASSION</th>\n",
       "      <th>WEEKLY_MEDITATION</th>\n",
       "      <th>WORK_LIFE_BALANCE_SCORE</th>\n",
       "    </tr>\n",
       "  </thead>\n",
       "  <tbody>\n",
       "    <tr>\n",
       "      <th>count</th>\n",
       "      <td>15972.000000</td>\n",
       "      <td>15972.000000</td>\n",
       "      <td>15972.000000</td>\n",
       "      <td>15972.000000</td>\n",
       "      <td>15972.000000</td>\n",
       "      <td>15972.000000</td>\n",
       "      <td>15972.000000</td>\n",
       "      <td>15972.000000</td>\n",
       "      <td>15972.000000</td>\n",
       "      <td>15972.000000</td>\n",
       "      <td>15972.000000</td>\n",
       "      <td>15972.000000</td>\n",
       "      <td>15972.000000</td>\n",
       "      <td>15972.000000</td>\n",
       "      <td>15972.000000</td>\n",
       "      <td>15972.000000</td>\n",
       "      <td>15972.000000</td>\n",
       "      <td>15972.000000</td>\n",
       "      <td>15972.000000</td>\n",
       "      <td>15972.000000</td>\n",
       "    </tr>\n",
       "    <tr>\n",
       "      <th>mean</th>\n",
       "      <td>2.922677</td>\n",
       "      <td>5.232970</td>\n",
       "      <td>5.508077</td>\n",
       "      <td>5.616454</td>\n",
       "      <td>6.474267</td>\n",
       "      <td>4.000751</td>\n",
       "      <td>2.715314</td>\n",
       "      <td>1.410656</td>\n",
       "      <td>5.745993</td>\n",
       "      <td>3.194778</td>\n",
       "      <td>5.703606</td>\n",
       "      <td>3.752129</td>\n",
       "      <td>7.042888</td>\n",
       "      <td>2.898886</td>\n",
       "      <td>2.930879</td>\n",
       "      <td>1.728963</td>\n",
       "      <td>5.711558</td>\n",
       "      <td>3.326572</td>\n",
       "      <td>6.233346</td>\n",
       "      <td>666.751503</td>\n",
       "    </tr>\n",
       "    <tr>\n",
       "      <th>std</th>\n",
       "      <td>1.442694</td>\n",
       "      <td>3.311912</td>\n",
       "      <td>2.840334</td>\n",
       "      <td>3.242021</td>\n",
       "      <td>3.086672</td>\n",
       "      <td>2.755837</td>\n",
       "      <td>1.851586</td>\n",
       "      <td>0.491968</td>\n",
       "      <td>2.624097</td>\n",
       "      <td>2.357518</td>\n",
       "      <td>2.891013</td>\n",
       "      <td>3.230987</td>\n",
       "      <td>1.199044</td>\n",
       "      <td>3.692180</td>\n",
       "      <td>2.676301</td>\n",
       "      <td>0.444509</td>\n",
       "      <td>3.089630</td>\n",
       "      <td>2.729293</td>\n",
       "      <td>3.016571</td>\n",
       "      <td>45.019868</td>\n",
       "    </tr>\n",
       "    <tr>\n",
       "      <th>min</th>\n",
       "      <td>0.000000</td>\n",
       "      <td>0.000000</td>\n",
       "      <td>0.000000</td>\n",
       "      <td>0.000000</td>\n",
       "      <td>0.000000</td>\n",
       "      <td>0.000000</td>\n",
       "      <td>0.000000</td>\n",
       "      <td>1.000000</td>\n",
       "      <td>0.000000</td>\n",
       "      <td>0.000000</td>\n",
       "      <td>1.000000</td>\n",
       "      <td>0.000000</td>\n",
       "      <td>1.000000</td>\n",
       "      <td>0.000000</td>\n",
       "      <td>0.000000</td>\n",
       "      <td>1.000000</td>\n",
       "      <td>0.000000</td>\n",
       "      <td>0.000000</td>\n",
       "      <td>0.000000</td>\n",
       "      <td>480.000000</td>\n",
       "    </tr>\n",
       "    <tr>\n",
       "      <th>25%</th>\n",
       "      <td>2.000000</td>\n",
       "      <td>2.000000</td>\n",
       "      <td>3.000000</td>\n",
       "      <td>3.000000</td>\n",
       "      <td>4.000000</td>\n",
       "      <td>2.000000</td>\n",
       "      <td>1.000000</td>\n",
       "      <td>1.000000</td>\n",
       "      <td>4.000000</td>\n",
       "      <td>1.000000</td>\n",
       "      <td>3.000000</td>\n",
       "      <td>1.000000</td>\n",
       "      <td>6.000000</td>\n",
       "      <td>0.000000</td>\n",
       "      <td>1.000000</td>\n",
       "      <td>1.000000</td>\n",
       "      <td>3.000000</td>\n",
       "      <td>1.000000</td>\n",
       "      <td>4.000000</td>\n",
       "      <td>636.000000</td>\n",
       "    </tr>\n",
       "    <tr>\n",
       "      <th>50%</th>\n",
       "      <td>3.000000</td>\n",
       "      <td>5.000000</td>\n",
       "      <td>5.000000</td>\n",
       "      <td>5.000000</td>\n",
       "      <td>6.000000</td>\n",
       "      <td>3.000000</td>\n",
       "      <td>3.000000</td>\n",
       "      <td>1.000000</td>\n",
       "      <td>6.000000</td>\n",
       "      <td>3.000000</td>\n",
       "      <td>5.000000</td>\n",
       "      <td>3.000000</td>\n",
       "      <td>7.000000</td>\n",
       "      <td>0.000000</td>\n",
       "      <td>2.000000</td>\n",
       "      <td>2.000000</td>\n",
       "      <td>5.000000</td>\n",
       "      <td>3.000000</td>\n",
       "      <td>7.000000</td>\n",
       "      <td>667.700000</td>\n",
       "    </tr>\n",
       "    <tr>\n",
       "      <th>75%</th>\n",
       "      <td>4.000000</td>\n",
       "      <td>8.000000</td>\n",
       "      <td>8.000000</td>\n",
       "      <td>10.000000</td>\n",
       "      <td>10.000000</td>\n",
       "      <td>6.000000</td>\n",
       "      <td>5.000000</td>\n",
       "      <td>2.000000</td>\n",
       "      <td>8.000000</td>\n",
       "      <td>5.000000</td>\n",
       "      <td>8.000000</td>\n",
       "      <td>5.000000</td>\n",
       "      <td>8.000000</td>\n",
       "      <td>5.000000</td>\n",
       "      <td>4.000000</td>\n",
       "      <td>2.000000</td>\n",
       "      <td>9.000000</td>\n",
       "      <td>5.000000</td>\n",
       "      <td>10.000000</td>\n",
       "      <td>698.500000</td>\n",
       "    </tr>\n",
       "    <tr>\n",
       "      <th>max</th>\n",
       "      <td>5.000000</td>\n",
       "      <td>10.000000</td>\n",
       "      <td>10.000000</td>\n",
       "      <td>10.000000</td>\n",
       "      <td>10.000000</td>\n",
       "      <td>10.000000</td>\n",
       "      <td>5.000000</td>\n",
       "      <td>2.000000</td>\n",
       "      <td>10.000000</td>\n",
       "      <td>10.000000</td>\n",
       "      <td>10.000000</td>\n",
       "      <td>10.000000</td>\n",
       "      <td>10.000000</td>\n",
       "      <td>10.000000</td>\n",
       "      <td>10.000000</td>\n",
       "      <td>2.000000</td>\n",
       "      <td>10.000000</td>\n",
       "      <td>10.000000</td>\n",
       "      <td>10.000000</td>\n",
       "      <td>820.200000</td>\n",
       "    </tr>\n",
       "  </tbody>\n",
       "</table>\n",
       "</div>"
      ],
      "text/plain": [
       "       FRUITS_VEGGIES  PLACES_VISITED   CORE_CIRCLE  SUPPORTING_OTHERS  \\\n",
       "count    15972.000000    15972.000000  15972.000000       15972.000000   \n",
       "mean         2.922677        5.232970      5.508077           5.616454   \n",
       "std          1.442694        3.311912      2.840334           3.242021   \n",
       "min          0.000000        0.000000      0.000000           0.000000   \n",
       "25%          2.000000        2.000000      3.000000           3.000000   \n",
       "50%          3.000000        5.000000      5.000000           5.000000   \n",
       "75%          4.000000        8.000000      8.000000          10.000000   \n",
       "max          5.000000       10.000000     10.000000          10.000000   \n",
       "\n",
       "       SOCIAL_NETWORK   ACHIEVEMENT      DONATION     BMI_RANGE  \\\n",
       "count    15972.000000  15972.000000  15972.000000  15972.000000   \n",
       "mean         6.474267      4.000751      2.715314      1.410656   \n",
       "std          3.086672      2.755837      1.851586      0.491968   \n",
       "min          0.000000      0.000000      0.000000      1.000000   \n",
       "25%          4.000000      2.000000      1.000000      1.000000   \n",
       "50%          6.000000      3.000000      3.000000      1.000000   \n",
       "75%         10.000000      6.000000      5.000000      2.000000   \n",
       "max         10.000000     10.000000      5.000000      2.000000   \n",
       "\n",
       "       TODO_COMPLETED          FLOW   DAILY_STEPS   LIVE_VISION   SLEEP_HOURS  \\\n",
       "count    15972.000000  15972.000000  15972.000000  15972.000000  15972.000000   \n",
       "mean         5.745993      3.194778      5.703606      3.752129      7.042888   \n",
       "std          2.624097      2.357518      2.891013      3.230987      1.199044   \n",
       "min          0.000000      0.000000      1.000000      0.000000      1.000000   \n",
       "25%          4.000000      1.000000      3.000000      1.000000      6.000000   \n",
       "50%          6.000000      3.000000      5.000000      3.000000      7.000000   \n",
       "75%          8.000000      5.000000      8.000000      5.000000      8.000000   \n",
       "max         10.000000     10.000000     10.000000     10.000000     10.000000   \n",
       "\n",
       "       LOST_VACATION  DAILY_SHOUTING  SUFFICIENT_INCOME  PERSONAL_AWARDS  \\\n",
       "count   15972.000000    15972.000000       15972.000000     15972.000000   \n",
       "mean        2.898886        2.930879           1.728963         5.711558   \n",
       "std         3.692180        2.676301           0.444509         3.089630   \n",
       "min         0.000000        0.000000           1.000000         0.000000   \n",
       "25%         0.000000        1.000000           1.000000         3.000000   \n",
       "50%         0.000000        2.000000           2.000000         5.000000   \n",
       "75%         5.000000        4.000000           2.000000         9.000000   \n",
       "max        10.000000       10.000000           2.000000        10.000000   \n",
       "\n",
       "       TIME_FOR_PASSION  WEEKLY_MEDITATION  WORK_LIFE_BALANCE_SCORE  \n",
       "count      15972.000000       15972.000000             15972.000000  \n",
       "mean           3.326572           6.233346               666.751503  \n",
       "std            2.729293           3.016571                45.019868  \n",
       "min            0.000000           0.000000               480.000000  \n",
       "25%            1.000000           4.000000               636.000000  \n",
       "50%            3.000000           7.000000               667.700000  \n",
       "75%            5.000000          10.000000               698.500000  \n",
       "max           10.000000          10.000000               820.200000  "
      ]
     },
     "execution_count": 11,
     "metadata": {},
     "output_type": "execute_result"
    }
   ],
   "source": [
    "# statistical measure about data\n",
    "life_data.describe()"
   ]
  },
  {
   "cell_type": "code",
   "execution_count": 12,
   "metadata": {
    "id": "Z_DqvdkYldZs"
   },
   "outputs": [],
   "source": [
    "life_data1 = life_data.drop(['1','CORE_CIRCLE','DONATION','FLOW','LOST_VACATION','PERSONAL_AWARDS'], axis=1)"
   ]
  },
  {
   "cell_type": "code",
   "execution_count": 13,
   "metadata": {
    "colab": {
     "base_uri": "https://localhost:8080/",
     "height": 444
    },
    "id": "8uWg5XOYmmXp",
    "outputId": "1c509e5c-770f-4501-ee66-4712fe274a02"
   },
   "outputs": [
    {
     "data": {
      "text/html": [
       "<div>\n",
       "<style scoped>\n",
       "    .dataframe tbody tr th:only-of-type {\n",
       "        vertical-align: middle;\n",
       "    }\n",
       "\n",
       "    .dataframe tbody tr th {\n",
       "        vertical-align: top;\n",
       "    }\n",
       "\n",
       "    .dataframe thead th {\n",
       "        text-align: right;\n",
       "    }\n",
       "</style>\n",
       "<table border=\"1\" class=\"dataframe\">\n",
       "  <thead>\n",
       "    <tr style=\"text-align: right;\">\n",
       "      <th></th>\n",
       "      <th>FRUITS_VEGGIES</th>\n",
       "      <th>DAILY_STRESS</th>\n",
       "      <th>PLACES_VISITED</th>\n",
       "      <th>SUPPORTING_OTHERS</th>\n",
       "      <th>SOCIAL_NETWORK</th>\n",
       "      <th>ACHIEVEMENT</th>\n",
       "      <th>BMI_RANGE</th>\n",
       "      <th>TODO_COMPLETED</th>\n",
       "      <th>DAILY_STEPS</th>\n",
       "      <th>LIVE_VISION</th>\n",
       "      <th>SLEEP_HOURS</th>\n",
       "      <th>DAILY_SHOUTING</th>\n",
       "      <th>SUFFICIENT_INCOME</th>\n",
       "      <th>TIME_FOR_PASSION</th>\n",
       "      <th>WEEKLY_MEDITATION</th>\n",
       "      <th>AGE</th>\n",
       "      <th>GENDER</th>\n",
       "      <th>WORK_LIFE_BALANCE_SCORE</th>\n",
       "    </tr>\n",
       "  </thead>\n",
       "  <tbody>\n",
       "    <tr>\n",
       "      <th>0</th>\n",
       "      <td>3</td>\n",
       "      <td>2</td>\n",
       "      <td>2</td>\n",
       "      <td>0</td>\n",
       "      <td>5</td>\n",
       "      <td>2</td>\n",
       "      <td>1</td>\n",
       "      <td>6</td>\n",
       "      <td>5</td>\n",
       "      <td>0</td>\n",
       "      <td>7</td>\n",
       "      <td>5</td>\n",
       "      <td>1</td>\n",
       "      <td>0</td>\n",
       "      <td>5</td>\n",
       "      <td>36 to 50</td>\n",
       "      <td>Female</td>\n",
       "      <td>609.5</td>\n",
       "    </tr>\n",
       "    <tr>\n",
       "      <th>1</th>\n",
       "      <td>2</td>\n",
       "      <td>3</td>\n",
       "      <td>4</td>\n",
       "      <td>8</td>\n",
       "      <td>10</td>\n",
       "      <td>5</td>\n",
       "      <td>2</td>\n",
       "      <td>5</td>\n",
       "      <td>5</td>\n",
       "      <td>5</td>\n",
       "      <td>8</td>\n",
       "      <td>2</td>\n",
       "      <td>2</td>\n",
       "      <td>2</td>\n",
       "      <td>6</td>\n",
       "      <td>36 to 50</td>\n",
       "      <td>Female</td>\n",
       "      <td>655.6</td>\n",
       "    </tr>\n",
       "    <tr>\n",
       "      <th>2</th>\n",
       "      <td>2</td>\n",
       "      <td>3</td>\n",
       "      <td>3</td>\n",
       "      <td>4</td>\n",
       "      <td>10</td>\n",
       "      <td>3</td>\n",
       "      <td>2</td>\n",
       "      <td>2</td>\n",
       "      <td>4</td>\n",
       "      <td>5</td>\n",
       "      <td>8</td>\n",
       "      <td>2</td>\n",
       "      <td>2</td>\n",
       "      <td>8</td>\n",
       "      <td>3</td>\n",
       "      <td>36 to 50</td>\n",
       "      <td>Female</td>\n",
       "      <td>631.6</td>\n",
       "    </tr>\n",
       "    <tr>\n",
       "      <th>3</th>\n",
       "      <td>3</td>\n",
       "      <td>3</td>\n",
       "      <td>10</td>\n",
       "      <td>10</td>\n",
       "      <td>7</td>\n",
       "      <td>2</td>\n",
       "      <td>2</td>\n",
       "      <td>3</td>\n",
       "      <td>5</td>\n",
       "      <td>0</td>\n",
       "      <td>5</td>\n",
       "      <td>5</td>\n",
       "      <td>1</td>\n",
       "      <td>2</td>\n",
       "      <td>0</td>\n",
       "      <td>51 or more</td>\n",
       "      <td>Female</td>\n",
       "      <td>622.7</td>\n",
       "    </tr>\n",
       "    <tr>\n",
       "      <th>4</th>\n",
       "      <td>5</td>\n",
       "      <td>1</td>\n",
       "      <td>3</td>\n",
       "      <td>10</td>\n",
       "      <td>4</td>\n",
       "      <td>2</td>\n",
       "      <td>2</td>\n",
       "      <td>5</td>\n",
       "      <td>5</td>\n",
       "      <td>0</td>\n",
       "      <td>7</td>\n",
       "      <td>0</td>\n",
       "      <td>2</td>\n",
       "      <td>1</td>\n",
       "      <td>5</td>\n",
       "      <td>51 or more</td>\n",
       "      <td>Female</td>\n",
       "      <td>663.9</td>\n",
       "    </tr>\n",
       "    <tr>\n",
       "      <th>...</th>\n",
       "      <td>...</td>\n",
       "      <td>...</td>\n",
       "      <td>...</td>\n",
       "      <td>...</td>\n",
       "      <td>...</td>\n",
       "      <td>...</td>\n",
       "      <td>...</td>\n",
       "      <td>...</td>\n",
       "      <td>...</td>\n",
       "      <td>...</td>\n",
       "      <td>...</td>\n",
       "      <td>...</td>\n",
       "      <td>...</td>\n",
       "      <td>...</td>\n",
       "      <td>...</td>\n",
       "      <td>...</td>\n",
       "      <td>...</td>\n",
       "      <td>...</td>\n",
       "    </tr>\n",
       "    <tr>\n",
       "      <th>15967</th>\n",
       "      <td>3</td>\n",
       "      <td>3</td>\n",
       "      <td>0</td>\n",
       "      <td>0</td>\n",
       "      <td>10</td>\n",
       "      <td>0</td>\n",
       "      <td>2</td>\n",
       "      <td>8</td>\n",
       "      <td>10</td>\n",
       "      <td>7</td>\n",
       "      <td>7</td>\n",
       "      <td>1</td>\n",
       "      <td>1</td>\n",
       "      <td>2</td>\n",
       "      <td>5</td>\n",
       "      <td>51 or more</td>\n",
       "      <td>Female</td>\n",
       "      <td>644.5</td>\n",
       "    </tr>\n",
       "    <tr>\n",
       "      <th>15968</th>\n",
       "      <td>3</td>\n",
       "      <td>3</td>\n",
       "      <td>6</td>\n",
       "      <td>7</td>\n",
       "      <td>4</td>\n",
       "      <td>6</td>\n",
       "      <td>1</td>\n",
       "      <td>7</td>\n",
       "      <td>6</td>\n",
       "      <td>5</td>\n",
       "      <td>6</td>\n",
       "      <td>0</td>\n",
       "      <td>2</td>\n",
       "      <td>5</td>\n",
       "      <td>8</td>\n",
       "      <td>21 to 35</td>\n",
       "      <td>Female</td>\n",
       "      <td>714.9</td>\n",
       "    </tr>\n",
       "    <tr>\n",
       "      <th>15969</th>\n",
       "      <td>4</td>\n",
       "      <td>3</td>\n",
       "      <td>0</td>\n",
       "      <td>10</td>\n",
       "      <td>8</td>\n",
       "      <td>6</td>\n",
       "      <td>1</td>\n",
       "      <td>7</td>\n",
       "      <td>5</td>\n",
       "      <td>2</td>\n",
       "      <td>7</td>\n",
       "      <td>1</td>\n",
       "      <td>2</td>\n",
       "      <td>1</td>\n",
       "      <td>10</td>\n",
       "      <td>21 to 35</td>\n",
       "      <td>Male</td>\n",
       "      <td>716.6</td>\n",
       "    </tr>\n",
       "    <tr>\n",
       "      <th>15970</th>\n",
       "      <td>1</td>\n",
       "      <td>1</td>\n",
       "      <td>10</td>\n",
       "      <td>2</td>\n",
       "      <td>7</td>\n",
       "      <td>3</td>\n",
       "      <td>1</td>\n",
       "      <td>6</td>\n",
       "      <td>1</td>\n",
       "      <td>5</td>\n",
       "      <td>8</td>\n",
       "      <td>2</td>\n",
       "      <td>2</td>\n",
       "      <td>6</td>\n",
       "      <td>8</td>\n",
       "      <td>21 to 35</td>\n",
       "      <td>Female</td>\n",
       "      <td>682.0</td>\n",
       "    </tr>\n",
       "    <tr>\n",
       "      <th>15971</th>\n",
       "      <td>5</td>\n",
       "      <td>4</td>\n",
       "      <td>0</td>\n",
       "      <td>10</td>\n",
       "      <td>10</td>\n",
       "      <td>5</td>\n",
       "      <td>2</td>\n",
       "      <td>7</td>\n",
       "      <td>1</td>\n",
       "      <td>5</td>\n",
       "      <td>8</td>\n",
       "      <td>2</td>\n",
       "      <td>2</td>\n",
       "      <td>8</td>\n",
       "      <td>4</td>\n",
       "      <td>21 to 35</td>\n",
       "      <td>Female</td>\n",
       "      <td>651.4</td>\n",
       "    </tr>\n",
       "  </tbody>\n",
       "</table>\n",
       "<p>15972 rows × 18 columns</p>\n",
       "</div>"
      ],
      "text/plain": [
       "       FRUITS_VEGGIES DAILY_STRESS  PLACES_VISITED  SUPPORTING_OTHERS  \\\n",
       "0                   3            2               2                  0   \n",
       "1                   2            3               4                  8   \n",
       "2                   2            3               3                  4   \n",
       "3                   3            3              10                 10   \n",
       "4                   5            1               3                 10   \n",
       "...               ...          ...             ...                ...   \n",
       "15967               3            3               0                  0   \n",
       "15968               3            3               6                  7   \n",
       "15969               4            3               0                 10   \n",
       "15970               1            1              10                  2   \n",
       "15971               5            4               0                 10   \n",
       "\n",
       "       SOCIAL_NETWORK  ACHIEVEMENT  BMI_RANGE  TODO_COMPLETED  DAILY_STEPS  \\\n",
       "0                   5            2          1               6            5   \n",
       "1                  10            5          2               5            5   \n",
       "2                  10            3          2               2            4   \n",
       "3                   7            2          2               3            5   \n",
       "4                   4            2          2               5            5   \n",
       "...               ...          ...        ...             ...          ...   \n",
       "15967              10            0          2               8           10   \n",
       "15968               4            6          1               7            6   \n",
       "15969               8            6          1               7            5   \n",
       "15970               7            3          1               6            1   \n",
       "15971              10            5          2               7            1   \n",
       "\n",
       "       LIVE_VISION  SLEEP_HOURS  DAILY_SHOUTING  SUFFICIENT_INCOME  \\\n",
       "0                0            7               5                  1   \n",
       "1                5            8               2                  2   \n",
       "2                5            8               2                  2   \n",
       "3                0            5               5                  1   \n",
       "4                0            7               0                  2   \n",
       "...            ...          ...             ...                ...   \n",
       "15967            7            7               1                  1   \n",
       "15968            5            6               0                  2   \n",
       "15969            2            7               1                  2   \n",
       "15970            5            8               2                  2   \n",
       "15971            5            8               2                  2   \n",
       "\n",
       "       TIME_FOR_PASSION  WEEKLY_MEDITATION         AGE  GENDER  \\\n",
       "0                     0                  5    36 to 50  Female   \n",
       "1                     2                  6    36 to 50  Female   \n",
       "2                     8                  3    36 to 50  Female   \n",
       "3                     2                  0  51 or more  Female   \n",
       "4                     1                  5  51 or more  Female   \n",
       "...                 ...                ...         ...     ...   \n",
       "15967                 2                  5  51 or more  Female   \n",
       "15968                 5                  8    21 to 35  Female   \n",
       "15969                 1                 10    21 to 35    Male   \n",
       "15970                 6                  8    21 to 35  Female   \n",
       "15971                 8                  4    21 to 35  Female   \n",
       "\n",
       "       WORK_LIFE_BALANCE_SCORE  \n",
       "0                        609.5  \n",
       "1                        655.6  \n",
       "2                        631.6  \n",
       "3                        622.7  \n",
       "4                        663.9  \n",
       "...                        ...  \n",
       "15967                    644.5  \n",
       "15968                    714.9  \n",
       "15969                    716.6  \n",
       "15970                    682.0  \n",
       "15971                    651.4  \n",
       "\n",
       "[15972 rows x 18 columns]"
      ]
     },
     "execution_count": 13,
     "metadata": {},
     "output_type": "execute_result"
    }
   ],
   "source": [
    "life_data1"
   ]
  },
  {
   "cell_type": "code",
   "execution_count": 14,
   "metadata": {},
   "outputs": [
    {
     "data": {
      "text/plain": [
       "array([3, 2, 5, 4, 1, 0], dtype=int64)"
      ]
     },
     "execution_count": 14,
     "metadata": {},
     "output_type": "execute_result"
    }
   ],
   "source": [
    "life_data1['FRUITS_VEGGIES'].unique()"
   ]
  },
  {
   "cell_type": "code",
   "execution_count": 16,
   "metadata": {},
   "outputs": [
    {
     "data": {
      "text/plain": [
       "array([ 2,  4,  3, 10,  5,  6,  7,  0,  8,  1,  9], dtype=int64)"
      ]
     },
     "execution_count": 16,
     "metadata": {},
     "output_type": "execute_result"
    }
   ],
   "source": [
    "life_data1['PLACES_VISITED'].unique()"
   ]
  },
  {
   "cell_type": "code",
   "execution_count": 17,
   "metadata": {},
   "outputs": [
    {
     "data": {
      "text/plain": [
       "array([ 0,  8,  4, 10,  5,  3,  1,  2,  6,  7,  9], dtype=int64)"
      ]
     },
     "execution_count": 17,
     "metadata": {},
     "output_type": "execute_result"
    }
   ],
   "source": [
    "life_data1['SUPPORTING_OTHERS'].unique()"
   ]
  },
  {
   "cell_type": "code",
   "execution_count": 18,
   "metadata": {},
   "outputs": [
    {
     "data": {
      "text/plain": [
       "array([ 5, 10,  7,  4,  3,  1,  2,  8,  6,  9,  0], dtype=int64)"
      ]
     },
     "execution_count": 18,
     "metadata": {},
     "output_type": "execute_result"
    }
   ],
   "source": [
    "life_data1['SOCIAL_NETWORK'].unique()"
   ]
  },
  {
   "cell_type": "code",
   "execution_count": 19,
   "metadata": {},
   "outputs": [
    {
     "data": {
      "text/plain": [
       "array([ 2,  5,  3,  4,  0,  1,  6, 10,  8,  7,  9], dtype=int64)"
      ]
     },
     "execution_count": 19,
     "metadata": {},
     "output_type": "execute_result"
    }
   ],
   "source": [
    "life_data1['ACHIEVEMENT'].unique()"
   ]
  },
  {
   "cell_type": "code",
   "execution_count": 20,
   "metadata": {},
   "outputs": [
    {
     "data": {
      "text/plain": [
       "array(['2', '3', '1', '4', '5', '0', '01-01-2000'], dtype=object)"
      ]
     },
     "execution_count": 20,
     "metadata": {},
     "output_type": "execute_result"
    }
   ],
   "source": [
    "life_data1['DAILY_STRESS'].unique()"
   ]
  },
  {
   "cell_type": "code",
   "execution_count": 21,
   "metadata": {},
   "outputs": [
    {
     "data": {
      "text/plain": [
       "array(['2', '3', '1', '4', '5', '0', nan], dtype=object)"
      ]
     },
     "execution_count": 21,
     "metadata": {},
     "output_type": "execute_result"
    }
   ],
   "source": [
    "#to fix this before replacing it,it should be converted into null value.\n",
    "life_data1=life_data1.replace('01-01-2000',np.nan)\n",
    "life_data1['DAILY_STRESS'].unique()"
   ]
  },
  {
   "cell_type": "code",
   "execution_count": 22,
   "metadata": {},
   "outputs": [
    {
     "data": {
      "text/plain": [
       "array(['2', '3', '1', '4', '5', '0', nan], dtype=object)"
      ]
     },
     "execution_count": 22,
     "metadata": {},
     "output_type": "execute_result"
    }
   ],
   "source": [
    "life_data1['DAILY_STRESS'].unique()"
   ]
  },
  {
   "cell_type": "code",
   "execution_count": 23,
   "metadata": {},
   "outputs": [],
   "source": [
    "life_data1['DAILY_STRESS'].fillna(value=0,inplace=True)"
   ]
  },
  {
   "cell_type": "code",
   "execution_count": 23,
   "metadata": {},
   "outputs": [
    {
     "data": {
      "text/plain": [
       "array(['2', '3', '1', '4', '5', '0', 0], dtype=object)"
      ]
     },
     "execution_count": 23,
     "metadata": {},
     "output_type": "execute_result"
    }
   ],
   "source": [
    "life_data1['DAILY_STRESS'].unique()\n"
   ]
  },
  {
   "cell_type": "code",
   "execution_count": 24,
   "metadata": {},
   "outputs": [
    {
     "name": "stdout",
     "output_type": "stream",
     "text": [
      "<class 'pandas.core.frame.DataFrame'>\n",
      "RangeIndex: 15972 entries, 0 to 15971\n",
      "Data columns (total 18 columns):\n",
      " #   Column                   Non-Null Count  Dtype  \n",
      "---  ------                   --------------  -----  \n",
      " 0   FRUITS_VEGGIES           15972 non-null  int64  \n",
      " 1   DAILY_STRESS             15972 non-null  int32  \n",
      " 2   PLACES_VISITED           15972 non-null  int64  \n",
      " 3   SUPPORTING_OTHERS        15972 non-null  int64  \n",
      " 4   SOCIAL_NETWORK           15972 non-null  int64  \n",
      " 5   ACHIEVEMENT              15972 non-null  int64  \n",
      " 6   BMI_RANGE                15972 non-null  int64  \n",
      " 7   TODO_COMPLETED           15972 non-null  int64  \n",
      " 8   DAILY_STEPS              15972 non-null  int64  \n",
      " 9   LIVE_VISION              15972 non-null  int64  \n",
      " 10  SLEEP_HOURS              15972 non-null  int64  \n",
      " 11  DAILY_SHOUTING           15972 non-null  int64  \n",
      " 12  SUFFICIENT_INCOME        15972 non-null  int64  \n",
      " 13  TIME_FOR_PASSION         15972 non-null  int64  \n",
      " 14  WEEKLY_MEDITATION        15972 non-null  int64  \n",
      " 15  AGE                      15972 non-null  object \n",
      " 16  GENDER                   15972 non-null  object \n",
      " 17  WORK_LIFE_BALANCE_SCORE  15972 non-null  float64\n",
      "dtypes: float64(1), int32(1), int64(14), object(2)\n",
      "memory usage: 2.1+ MB\n"
     ]
    }
   ],
   "source": [
    "life_data1['DAILY_STRESS']=life_data1['DAILY_STRESS'].astype(int)\n",
    "life_data1.info()"
   ]
  },
  {
   "cell_type": "code",
   "execution_count": 25,
   "metadata": {},
   "outputs": [
    {
     "data": {
      "text/plain": [
       "array(['36 to 50', '51 or more', '21 to 35', 'Less than 20'], dtype=object)"
      ]
     },
     "execution_count": 25,
     "metadata": {},
     "output_type": "execute_result"
    }
   ],
   "source": [
    "life_data1['AGE'].unique()"
   ]
  },
  {
   "cell_type": "code",
   "execution_count": 26,
   "metadata": {},
   "outputs": [
    {
     "data": {
      "text/plain": [
       "0    21 to 35\n",
       "Name: AGE, dtype: object"
      ]
     },
     "execution_count": 26,
     "metadata": {},
     "output_type": "execute_result"
    }
   ],
   "source": [
    "life_data1['AGE'].mode()"
   ]
  },
  {
   "cell_type": "code",
   "execution_count": 27,
   "metadata": {},
   "outputs": [
    {
     "data": {
      "text/plain": [
       "0        Female\n",
       "1        Female\n",
       "2        Female\n",
       "3        Female\n",
       "4        Female\n",
       "          ...  \n",
       "15967    Female\n",
       "15968    Female\n",
       "15969      Male\n",
       "15970    Female\n",
       "15971    Female\n",
       "Name: GENDER, Length: 15972, dtype: object"
      ]
     },
     "execution_count": 27,
     "metadata": {},
     "output_type": "execute_result"
    }
   ],
   "source": [
    "life_data1['GENDER']"
   ]
  },
  {
   "cell_type": "code",
   "execution_count": 28,
   "metadata": {},
   "outputs": [
    {
     "data": {
      "text/html": [
       "<div>\n",
       "<style scoped>\n",
       "    .dataframe tbody tr th:only-of-type {\n",
       "        vertical-align: middle;\n",
       "    }\n",
       "\n",
       "    .dataframe tbody tr th {\n",
       "        vertical-align: top;\n",
       "    }\n",
       "\n",
       "    .dataframe thead th {\n",
       "        text-align: right;\n",
       "    }\n",
       "</style>\n",
       "<table border=\"1\" class=\"dataframe\">\n",
       "  <thead>\n",
       "    <tr style=\"text-align: right;\">\n",
       "      <th></th>\n",
       "      <th>FRUITS_VEGGIES</th>\n",
       "      <th>DAILY_STRESS</th>\n",
       "      <th>PLACES_VISITED</th>\n",
       "      <th>SUPPORTING_OTHERS</th>\n",
       "      <th>SOCIAL_NETWORK</th>\n",
       "      <th>ACHIEVEMENT</th>\n",
       "      <th>BMI_RANGE</th>\n",
       "      <th>TODO_COMPLETED</th>\n",
       "      <th>DAILY_STEPS</th>\n",
       "      <th>LIVE_VISION</th>\n",
       "      <th>SLEEP_HOURS</th>\n",
       "      <th>DAILY_SHOUTING</th>\n",
       "      <th>SUFFICIENT_INCOME</th>\n",
       "      <th>TIME_FOR_PASSION</th>\n",
       "      <th>WEEKLY_MEDITATION</th>\n",
       "      <th>AGE</th>\n",
       "      <th>GENDER</th>\n",
       "      <th>WORK_LIFE_BALANCE_SCORE</th>\n",
       "    </tr>\n",
       "  </thead>\n",
       "  <tbody>\n",
       "    <tr>\n",
       "      <th>0</th>\n",
       "      <td>3</td>\n",
       "      <td>2</td>\n",
       "      <td>2</td>\n",
       "      <td>0</td>\n",
       "      <td>5</td>\n",
       "      <td>2</td>\n",
       "      <td>1</td>\n",
       "      <td>6</td>\n",
       "      <td>5</td>\n",
       "      <td>0</td>\n",
       "      <td>7</td>\n",
       "      <td>5</td>\n",
       "      <td>1</td>\n",
       "      <td>0</td>\n",
       "      <td>5</td>\n",
       "      <td>2</td>\n",
       "      <td>Female</td>\n",
       "      <td>609.5</td>\n",
       "    </tr>\n",
       "    <tr>\n",
       "      <th>1</th>\n",
       "      <td>2</td>\n",
       "      <td>3</td>\n",
       "      <td>4</td>\n",
       "      <td>8</td>\n",
       "      <td>10</td>\n",
       "      <td>5</td>\n",
       "      <td>2</td>\n",
       "      <td>5</td>\n",
       "      <td>5</td>\n",
       "      <td>5</td>\n",
       "      <td>8</td>\n",
       "      <td>2</td>\n",
       "      <td>2</td>\n",
       "      <td>2</td>\n",
       "      <td>6</td>\n",
       "      <td>2</td>\n",
       "      <td>Female</td>\n",
       "      <td>655.6</td>\n",
       "    </tr>\n",
       "    <tr>\n",
       "      <th>2</th>\n",
       "      <td>2</td>\n",
       "      <td>3</td>\n",
       "      <td>3</td>\n",
       "      <td>4</td>\n",
       "      <td>10</td>\n",
       "      <td>3</td>\n",
       "      <td>2</td>\n",
       "      <td>2</td>\n",
       "      <td>4</td>\n",
       "      <td>5</td>\n",
       "      <td>8</td>\n",
       "      <td>2</td>\n",
       "      <td>2</td>\n",
       "      <td>8</td>\n",
       "      <td>3</td>\n",
       "      <td>2</td>\n",
       "      <td>Female</td>\n",
       "      <td>631.6</td>\n",
       "    </tr>\n",
       "    <tr>\n",
       "      <th>3</th>\n",
       "      <td>3</td>\n",
       "      <td>3</td>\n",
       "      <td>10</td>\n",
       "      <td>10</td>\n",
       "      <td>7</td>\n",
       "      <td>2</td>\n",
       "      <td>2</td>\n",
       "      <td>3</td>\n",
       "      <td>5</td>\n",
       "      <td>0</td>\n",
       "      <td>5</td>\n",
       "      <td>5</td>\n",
       "      <td>1</td>\n",
       "      <td>2</td>\n",
       "      <td>0</td>\n",
       "      <td>3</td>\n",
       "      <td>Female</td>\n",
       "      <td>622.7</td>\n",
       "    </tr>\n",
       "    <tr>\n",
       "      <th>4</th>\n",
       "      <td>5</td>\n",
       "      <td>1</td>\n",
       "      <td>3</td>\n",
       "      <td>10</td>\n",
       "      <td>4</td>\n",
       "      <td>2</td>\n",
       "      <td>2</td>\n",
       "      <td>5</td>\n",
       "      <td>5</td>\n",
       "      <td>0</td>\n",
       "      <td>7</td>\n",
       "      <td>0</td>\n",
       "      <td>2</td>\n",
       "      <td>1</td>\n",
       "      <td>5</td>\n",
       "      <td>3</td>\n",
       "      <td>Female</td>\n",
       "      <td>663.9</td>\n",
       "    </tr>\n",
       "  </tbody>\n",
       "</table>\n",
       "</div>"
      ],
      "text/plain": [
       "   FRUITS_VEGGIES  DAILY_STRESS  PLACES_VISITED  SUPPORTING_OTHERS  \\\n",
       "0               3             2               2                  0   \n",
       "1               2             3               4                  8   \n",
       "2               2             3               3                  4   \n",
       "3               3             3              10                 10   \n",
       "4               5             1               3                 10   \n",
       "\n",
       "   SOCIAL_NETWORK  ACHIEVEMENT  BMI_RANGE  TODO_COMPLETED  DAILY_STEPS  \\\n",
       "0               5            2          1               6            5   \n",
       "1              10            5          2               5            5   \n",
       "2              10            3          2               2            4   \n",
       "3               7            2          2               3            5   \n",
       "4               4            2          2               5            5   \n",
       "\n",
       "   LIVE_VISION  SLEEP_HOURS  DAILY_SHOUTING  SUFFICIENT_INCOME  \\\n",
       "0            0            7               5                  1   \n",
       "1            5            8               2                  2   \n",
       "2            5            8               2                  2   \n",
       "3            0            5               5                  1   \n",
       "4            0            7               0                  2   \n",
       "\n",
       "   TIME_FOR_PASSION  WEEKLY_MEDITATION AGE  GENDER  WORK_LIFE_BALANCE_SCORE  \n",
       "0                 0                  5   2  Female                    609.5  \n",
       "1                 2                  6   2  Female                    655.6  \n",
       "2                 8                  3   2  Female                    631.6  \n",
       "3                 2                  0   3  Female                    622.7  \n",
       "4                 1                  5   3  Female                    663.9  "
      ]
     },
     "execution_count": 28,
     "metadata": {},
     "output_type": "execute_result"
    }
   ],
   "source": [
    "life_data1.loc[life_data1[\"AGE\"]==\"Less than 20\",\"AGE\"]=0\n",
    "life_data1.loc[life_data1[\"AGE\"]==\"21 to 35\",\"AGE\"]=1\n",
    "life_data1.loc[life_data1[\"AGE\"]==\"36 to 50\",\"AGE\"]=2\n",
    "life_data1.loc[life_data1[\"AGE\"]==\"51 or more\",\"AGE\"]=3\n",
    "life_data1.head()"
   ]
  },
  {
   "cell_type": "code",
   "execution_count": 32,
   "metadata": {},
   "outputs": [
    {
     "data": {
      "text/plain": [
       "array([1, 0])"
      ]
     },
     "execution_count": 32,
     "metadata": {},
     "output_type": "execute_result"
    }
   ],
   "source": [
    "life_data1['GENDER'].unique()"
   ]
  },
  {
   "cell_type": "code",
   "execution_count": 33,
   "metadata": {},
   "outputs": [
    {
     "data": {
      "text/html": [
       "<div>\n",
       "<style scoped>\n",
       "    .dataframe tbody tr th:only-of-type {\n",
       "        vertical-align: middle;\n",
       "    }\n",
       "\n",
       "    .dataframe tbody tr th {\n",
       "        vertical-align: top;\n",
       "    }\n",
       "\n",
       "    .dataframe thead th {\n",
       "        text-align: right;\n",
       "    }\n",
       "</style>\n",
       "<table border=\"1\" class=\"dataframe\">\n",
       "  <thead>\n",
       "    <tr style=\"text-align: right;\">\n",
       "      <th></th>\n",
       "      <th>FRUITS_VEGGIES</th>\n",
       "      <th>DAILY_STRESS</th>\n",
       "      <th>PLACES_VISITED</th>\n",
       "      <th>SUPPORTING_OTHERS</th>\n",
       "      <th>SOCIAL_NETWORK</th>\n",
       "      <th>ACHIEVEMENT</th>\n",
       "      <th>BMI_RANGE</th>\n",
       "      <th>TODO_COMPLETED</th>\n",
       "      <th>DAILY_STEPS</th>\n",
       "      <th>LIVE_VISION</th>\n",
       "      <th>SLEEP_HOURS</th>\n",
       "      <th>DAILY_SHOUTING</th>\n",
       "      <th>SUFFICIENT_INCOME</th>\n",
       "      <th>TIME_FOR_PASSION</th>\n",
       "      <th>WEEKLY_MEDITATION</th>\n",
       "      <th>AGE</th>\n",
       "      <th>GENDER</th>\n",
       "      <th>WORK_LIFE_BALANCE_SCORE</th>\n",
       "    </tr>\n",
       "  </thead>\n",
       "  <tbody>\n",
       "    <tr>\n",
       "      <th>0</th>\n",
       "      <td>3</td>\n",
       "      <td>2</td>\n",
       "      <td>2</td>\n",
       "      <td>0</td>\n",
       "      <td>5</td>\n",
       "      <td>2</td>\n",
       "      <td>1</td>\n",
       "      <td>6</td>\n",
       "      <td>5</td>\n",
       "      <td>0</td>\n",
       "      <td>7</td>\n",
       "      <td>5</td>\n",
       "      <td>1</td>\n",
       "      <td>0</td>\n",
       "      <td>5</td>\n",
       "      <td>2</td>\n",
       "      <td>1</td>\n",
       "      <td>609.5</td>\n",
       "    </tr>\n",
       "    <tr>\n",
       "      <th>1</th>\n",
       "      <td>2</td>\n",
       "      <td>3</td>\n",
       "      <td>4</td>\n",
       "      <td>8</td>\n",
       "      <td>10</td>\n",
       "      <td>5</td>\n",
       "      <td>2</td>\n",
       "      <td>5</td>\n",
       "      <td>5</td>\n",
       "      <td>5</td>\n",
       "      <td>8</td>\n",
       "      <td>2</td>\n",
       "      <td>2</td>\n",
       "      <td>2</td>\n",
       "      <td>6</td>\n",
       "      <td>2</td>\n",
       "      <td>1</td>\n",
       "      <td>655.6</td>\n",
       "    </tr>\n",
       "    <tr>\n",
       "      <th>2</th>\n",
       "      <td>2</td>\n",
       "      <td>3</td>\n",
       "      <td>3</td>\n",
       "      <td>4</td>\n",
       "      <td>10</td>\n",
       "      <td>3</td>\n",
       "      <td>2</td>\n",
       "      <td>2</td>\n",
       "      <td>4</td>\n",
       "      <td>5</td>\n",
       "      <td>8</td>\n",
       "      <td>2</td>\n",
       "      <td>2</td>\n",
       "      <td>8</td>\n",
       "      <td>3</td>\n",
       "      <td>2</td>\n",
       "      <td>1</td>\n",
       "      <td>631.6</td>\n",
       "    </tr>\n",
       "    <tr>\n",
       "      <th>3</th>\n",
       "      <td>3</td>\n",
       "      <td>3</td>\n",
       "      <td>10</td>\n",
       "      <td>10</td>\n",
       "      <td>7</td>\n",
       "      <td>2</td>\n",
       "      <td>2</td>\n",
       "      <td>3</td>\n",
       "      <td>5</td>\n",
       "      <td>0</td>\n",
       "      <td>5</td>\n",
       "      <td>5</td>\n",
       "      <td>1</td>\n",
       "      <td>2</td>\n",
       "      <td>0</td>\n",
       "      <td>3</td>\n",
       "      <td>1</td>\n",
       "      <td>622.7</td>\n",
       "    </tr>\n",
       "    <tr>\n",
       "      <th>4</th>\n",
       "      <td>5</td>\n",
       "      <td>1</td>\n",
       "      <td>3</td>\n",
       "      <td>10</td>\n",
       "      <td>4</td>\n",
       "      <td>2</td>\n",
       "      <td>2</td>\n",
       "      <td>5</td>\n",
       "      <td>5</td>\n",
       "      <td>0</td>\n",
       "      <td>7</td>\n",
       "      <td>0</td>\n",
       "      <td>2</td>\n",
       "      <td>1</td>\n",
       "      <td>5</td>\n",
       "      <td>3</td>\n",
       "      <td>1</td>\n",
       "      <td>663.9</td>\n",
       "    </tr>\n",
       "  </tbody>\n",
       "</table>\n",
       "</div>"
      ],
      "text/plain": [
       "   FRUITS_VEGGIES  DAILY_STRESS  PLACES_VISITED  SUPPORTING_OTHERS  \\\n",
       "0               3             2               2                  0   \n",
       "1               2             3               4                  8   \n",
       "2               2             3               3                  4   \n",
       "3               3             3              10                 10   \n",
       "4               5             1               3                 10   \n",
       "\n",
       "   SOCIAL_NETWORK  ACHIEVEMENT  BMI_RANGE  TODO_COMPLETED  DAILY_STEPS  \\\n",
       "0               5            2          1               6            5   \n",
       "1              10            5          2               5            5   \n",
       "2              10            3          2               2            4   \n",
       "3               7            2          2               3            5   \n",
       "4               4            2          2               5            5   \n",
       "\n",
       "   LIVE_VISION  SLEEP_HOURS  DAILY_SHOUTING  SUFFICIENT_INCOME  \\\n",
       "0            0            7               5                  1   \n",
       "1            5            8               2                  2   \n",
       "2            5            8               2                  2   \n",
       "3            0            5               5                  1   \n",
       "4            0            7               0                  2   \n",
       "\n",
       "   TIME_FOR_PASSION  WEEKLY_MEDITATION AGE  GENDER  WORK_LIFE_BALANCE_SCORE  \n",
       "0                 0                  5   2       1                    609.5  \n",
       "1                 2                  6   2       1                    655.6  \n",
       "2                 8                  3   2       1                    631.6  \n",
       "3                 2                  0   3       1                    622.7  \n",
       "4                 1                  5   3       1                    663.9  "
      ]
     },
     "execution_count": 33,
     "metadata": {},
     "output_type": "execute_result"
    }
   ],
   "source": [
    "#CONVERT GENDER TO NUMBER MALE-->0,FEMALE--->1\n",
    "life_data1.loc[life_data1[\"GENDER\"]==\"Male\",\"GENDER\"]=0\n",
    "life_data1.loc[life_data1[\"GENDER\"]==\"Female\",\"GENDER\"]=1\n",
    "life_data1.head()"
   ]
  },
  {
   "cell_type": "code",
   "execution_count": 34,
   "metadata": {},
   "outputs": [
    {
     "name": "stdout",
     "output_type": "stream",
     "text": [
      "<class 'pandas.core.frame.DataFrame'>\n",
      "RangeIndex: 15972 entries, 0 to 15971\n",
      "Data columns (total 18 columns):\n",
      " #   Column                   Non-Null Count  Dtype  \n",
      "---  ------                   --------------  -----  \n",
      " 0   FRUITS_VEGGIES           15972 non-null  int64  \n",
      " 1   DAILY_STRESS             15972 non-null  int32  \n",
      " 2   PLACES_VISITED           15972 non-null  int64  \n",
      " 3   SUPPORTING_OTHERS        15972 non-null  int64  \n",
      " 4   SOCIAL_NETWORK           15972 non-null  int64  \n",
      " 5   ACHIEVEMENT              15972 non-null  int64  \n",
      " 6   BMI_RANGE                15972 non-null  int64  \n",
      " 7   TODO_COMPLETED           15972 non-null  int64  \n",
      " 8   DAILY_STEPS              15972 non-null  int64  \n",
      " 9   LIVE_VISION              15972 non-null  int64  \n",
      " 10  SLEEP_HOURS              15972 non-null  int64  \n",
      " 11  DAILY_SHOUTING           15972 non-null  int64  \n",
      " 12  SUFFICIENT_INCOME        15972 non-null  int64  \n",
      " 13  TIME_FOR_PASSION         15972 non-null  int64  \n",
      " 14  WEEKLY_MEDITATION        15972 non-null  int64  \n",
      " 15  AGE                      15972 non-null  object \n",
      " 16  GENDER                   15972 non-null  int32  \n",
      " 17  WORK_LIFE_BALANCE_SCORE  15972 non-null  float64\n",
      "dtypes: float64(1), int32(2), int64(14), object(1)\n",
      "memory usage: 2.1+ MB\n"
     ]
    }
   ],
   "source": [
    "life_data1['GENDER']=life_data1['GENDER'].astype(int)\n",
    "life_data1.info()"
   ]
  },
  {
   "cell_type": "code",
   "execution_count": 35,
   "metadata": {},
   "outputs": [
    {
     "name": "stdout",
     "output_type": "stream",
     "text": [
      "<class 'pandas.core.frame.DataFrame'>\n",
      "RangeIndex: 15972 entries, 0 to 15971\n",
      "Data columns (total 18 columns):\n",
      " #   Column                   Non-Null Count  Dtype  \n",
      "---  ------                   --------------  -----  \n",
      " 0   FRUITS_VEGGIES           15972 non-null  int64  \n",
      " 1   DAILY_STRESS             15972 non-null  int32  \n",
      " 2   PLACES_VISITED           15972 non-null  int64  \n",
      " 3   SUPPORTING_OTHERS        15972 non-null  int64  \n",
      " 4   SOCIAL_NETWORK           15972 non-null  int64  \n",
      " 5   ACHIEVEMENT              15972 non-null  int64  \n",
      " 6   BMI_RANGE                15972 non-null  int64  \n",
      " 7   TODO_COMPLETED           15972 non-null  int64  \n",
      " 8   DAILY_STEPS              15972 non-null  int64  \n",
      " 9   LIVE_VISION              15972 non-null  int64  \n",
      " 10  SLEEP_HOURS              15972 non-null  int64  \n",
      " 11  DAILY_SHOUTING           15972 non-null  int64  \n",
      " 12  SUFFICIENT_INCOME        15972 non-null  int64  \n",
      " 13  TIME_FOR_PASSION         15972 non-null  int64  \n",
      " 14  WEEKLY_MEDITATION        15972 non-null  int64  \n",
      " 15  AGE                      15972 non-null  int32  \n",
      " 16  GENDER                   15972 non-null  int32  \n",
      " 17  WORK_LIFE_BALANCE_SCORE  15972 non-null  float64\n",
      "dtypes: float64(1), int32(3), int64(14)\n",
      "memory usage: 2.0 MB\n"
     ]
    }
   ],
   "source": [
    "life_data1['AGE']=life_data1['AGE'].astype(int)\n",
    "life_data1.info()"
   ]
  },
  {
   "cell_type": "code",
   "execution_count": 36,
   "metadata": {},
   "outputs": [
    {
     "data": {
      "text/plain": [
       "FRUITS_VEGGIES               int64\n",
       "DAILY_STRESS                 int32\n",
       "PLACES_VISITED               int64\n",
       "SUPPORTING_OTHERS            int64\n",
       "SOCIAL_NETWORK               int64\n",
       "ACHIEVEMENT                  int64\n",
       "BMI_RANGE                    int64\n",
       "TODO_COMPLETED               int64\n",
       "DAILY_STEPS                  int64\n",
       "LIVE_VISION                  int64\n",
       "SLEEP_HOURS                  int64\n",
       "DAILY_SHOUTING               int64\n",
       "SUFFICIENT_INCOME            int64\n",
       "TIME_FOR_PASSION             int64\n",
       "WEEKLY_MEDITATION            int64\n",
       "AGE                          int32\n",
       "GENDER                       int32\n",
       "WORK_LIFE_BALANCE_SCORE    float64\n",
       "dtype: object"
      ]
     },
     "execution_count": 36,
     "metadata": {},
     "output_type": "execute_result"
    }
   ],
   "source": [
    "life_data1.dtypes"
   ]
  },
  {
   "cell_type": "code",
   "execution_count": 37,
   "metadata": {},
   "outputs": [
    {
     "data": {
      "text/plain": [
       "2.791510142749812"
      ]
     },
     "execution_count": 37,
     "metadata": {},
     "output_type": "execute_result"
    }
   ],
   "source": [
    "life_data1['DAILY_STRESS'].mean()"
   ]
  },
  {
   "cell_type": "raw",
   "metadata": {},
   "source": [
    "#replacing the invalid value with the mean central tendency"
   ]
  },
  {
   "cell_type": "code",
   "execution_count": 35,
   "metadata": {},
   "outputs": [
    {
     "data": {
      "text/plain": [
       "0        2\n",
       "1        3\n",
       "2        3\n",
       "3        3\n",
       "4        1\n",
       "        ..\n",
       "15967    3\n",
       "15968    3\n",
       "15969    3\n",
       "15970    1\n",
       "15971    4\n",
       "Name: DAILY_STRESS, Length: 15972, dtype: int32"
      ]
     },
     "execution_count": 35,
     "metadata": {},
     "output_type": "execute_result"
    }
   ],
   "source": [
    "life_data1['DAILY_STRESS'].fillna(life_data1['DAILY_STRESS'].mean())"
   ]
  },
  {
   "cell_type": "code",
   "execution_count": 38,
   "metadata": {
    "id": "g5wWe_m4m4kZ"
   },
   "outputs": [
    {
     "data": {
      "text/plain": [
       "array([2, 3, 1, 0])"
      ]
     },
     "execution_count": 38,
     "metadata": {},
     "output_type": "execute_result"
    }
   ],
   "source": [
    "life_data1['AGE'].unique()"
   ]
  },
  {
   "cell_type": "code",
   "execution_count": 39,
   "metadata": {
    "colab": {
     "base_uri": "https://localhost:8080/"
    },
    "id": "eypWNA-GmxM_",
    "outputId": "c66b6e66-12d0-49e7-a80c-b6d0bac483f9"
   },
   "outputs": [
    {
     "data": {
      "text/plain": [
       "641.4    75\n",
       "660.5    57\n",
       "670.7    37\n",
       "696.4    37\n",
       "675.8    36\n",
       "         ..\n",
       "794.8     1\n",
       "562.1     1\n",
       "555.6     1\n",
       "531.0     1\n",
       "790.5     1\n",
       "Name: WORK_LIFE_BALANCE_SCORE, Length: 1696, dtype: int64"
      ]
     },
     "execution_count": 39,
     "metadata": {},
     "output_type": "execute_result"
    }
   ],
   "source": [
    "# checking the distribution of target variable\n",
    "life_data1['WORK_LIFE_BALANCE_SCORE'].value_counts()"
   ]
  },
  {
   "cell_type": "code",
   "execution_count": 40,
   "metadata": {
    "id": "-4F8qPFPnoOd"
   },
   "outputs": [],
   "source": [
    "#splitting features and target\n",
    "X = life_data1.drop(columns='WORK_LIFE_BALANCE_SCORE', axis=1)\n",
    "Y = life_data1['WORK_LIFE_BALANCE_SCORE']"
   ]
  },
  {
   "cell_type": "code",
   "execution_count": 41,
   "metadata": {
    "colab": {
     "base_uri": "https://localhost:8080/"
    },
    "id": "GFQoQ7Gvas5C",
    "outputId": "a23bc376-d39e-4b94-a8e9-88902af2c43e"
   },
   "outputs": [
    {
     "name": "stdout",
     "output_type": "stream",
     "text": [
      "       FRUITS_VEGGIES  DAILY_STRESS  PLACES_VISITED  SUPPORTING_OTHERS  \\\n",
      "0                   3             2               2                  0   \n",
      "1                   2             3               4                  8   \n",
      "2                   2             3               3                  4   \n",
      "3                   3             3              10                 10   \n",
      "4                   5             1               3                 10   \n",
      "...               ...           ...             ...                ...   \n",
      "15967               3             3               0                  0   \n",
      "15968               3             3               6                  7   \n",
      "15969               4             3               0                 10   \n",
      "15970               1             1              10                  2   \n",
      "15971               5             4               0                 10   \n",
      "\n",
      "       SOCIAL_NETWORK  ACHIEVEMENT  BMI_RANGE  TODO_COMPLETED  DAILY_STEPS  \\\n",
      "0                   5            2          1               6            5   \n",
      "1                  10            5          2               5            5   \n",
      "2                  10            3          2               2            4   \n",
      "3                   7            2          2               3            5   \n",
      "4                   4            2          2               5            5   \n",
      "...               ...          ...        ...             ...          ...   \n",
      "15967              10            0          2               8           10   \n",
      "15968               4            6          1               7            6   \n",
      "15969               8            6          1               7            5   \n",
      "15970               7            3          1               6            1   \n",
      "15971              10            5          2               7            1   \n",
      "\n",
      "       LIVE_VISION  SLEEP_HOURS  DAILY_SHOUTING  SUFFICIENT_INCOME  \\\n",
      "0                0            7               5                  1   \n",
      "1                5            8               2                  2   \n",
      "2                5            8               2                  2   \n",
      "3                0            5               5                  1   \n",
      "4                0            7               0                  2   \n",
      "...            ...          ...             ...                ...   \n",
      "15967            7            7               1                  1   \n",
      "15968            5            6               0                  2   \n",
      "15969            2            7               1                  2   \n",
      "15970            5            8               2                  2   \n",
      "15971            5            8               2                  2   \n",
      "\n",
      "       TIME_FOR_PASSION  WEEKLY_MEDITATION  AGE  GENDER  \n",
      "0                     0                  5    2       1  \n",
      "1                     2                  6    2       1  \n",
      "2                     8                  3    2       1  \n",
      "3                     2                  0    3       1  \n",
      "4                     1                  5    3       1  \n",
      "...                 ...                ...  ...     ...  \n",
      "15967                 2                  5    3       1  \n",
      "15968                 5                  8    1       1  \n",
      "15969                 1                 10    1       0  \n",
      "15970                 6                  8    1       1  \n",
      "15971                 8                  4    1       1  \n",
      "\n",
      "[15972 rows x 17 columns]\n"
     ]
    }
   ],
   "source": [
    "print(X)"
   ]
  },
  {
   "cell_type": "code",
   "execution_count": 42,
   "metadata": {
    "colab": {
     "base_uri": "https://localhost:8080/"
    },
    "id": "X4HOjGymbINP",
    "outputId": "5469c0cb-3937-484a-c90f-2f9be29b16b9"
   },
   "outputs": [
    {
     "name": "stdout",
     "output_type": "stream",
     "text": [
      "0        609.5\n",
      "1        655.6\n",
      "2        631.6\n",
      "3        622.7\n",
      "4        663.9\n",
      "         ...  \n",
      "15967    644.5\n",
      "15968    714.9\n",
      "15969    716.6\n",
      "15970    682.0\n",
      "15971    651.4\n",
      "Name: WORK_LIFE_BALANCE_SCORE, Length: 15972, dtype: float64\n"
     ]
    },
    {
     "data": {
      "text/plain": [
       "0     609.5\n",
       "1     655.6\n",
       "2     631.6\n",
       "3     622.7\n",
       "4     663.9\n",
       "5     722.3\n",
       "6     727.2\n",
       "7     676.2\n",
       "8     702.8\n",
       "9     634.4\n",
       "10    610.1\n",
       "11    618.6\n",
       "12    686.4\n",
       "13    689.6\n",
       "14    639.7\n",
       "15    720.4\n",
       "16    673.5\n",
       "17    707.6\n",
       "18    727.8\n",
       "19    687.1\n",
       "Name: WORK_LIFE_BALANCE_SCORE, dtype: float64"
      ]
     },
     "execution_count": 42,
     "metadata": {},
     "output_type": "execute_result"
    }
   ],
   "source": [
    "print(Y)\n",
    "Y.head(20)"
   ]
  },
  {
   "cell_type": "markdown",
   "metadata": {},
   "source": [
    "DATA STANDARDISATION"
   ]
  },
  {
   "cell_type": "raw",
   "metadata": {},
   "source": []
  },
  {
   "cell_type": "code",
   "execution_count": 43,
   "metadata": {},
   "outputs": [
    {
     "data": {
      "text/html": [
       "<style>#sk-container-id-1 {color: black;background-color: white;}#sk-container-id-1 pre{padding: 0;}#sk-container-id-1 div.sk-toggleable {background-color: white;}#sk-container-id-1 label.sk-toggleable__label {cursor: pointer;display: block;width: 100%;margin-bottom: 0;padding: 0.3em;box-sizing: border-box;text-align: center;}#sk-container-id-1 label.sk-toggleable__label-arrow:before {content: \"▸\";float: left;margin-right: 0.25em;color: #696969;}#sk-container-id-1 label.sk-toggleable__label-arrow:hover:before {color: black;}#sk-container-id-1 div.sk-estimator:hover label.sk-toggleable__label-arrow:before {color: black;}#sk-container-id-1 div.sk-toggleable__content {max-height: 0;max-width: 0;overflow: hidden;text-align: left;background-color: #f0f8ff;}#sk-container-id-1 div.sk-toggleable__content pre {margin: 0.2em;color: black;border-radius: 0.25em;background-color: #f0f8ff;}#sk-container-id-1 input.sk-toggleable__control:checked~div.sk-toggleable__content {max-height: 200px;max-width: 100%;overflow: auto;}#sk-container-id-1 input.sk-toggleable__control:checked~label.sk-toggleable__label-arrow:before {content: \"▾\";}#sk-container-id-1 div.sk-estimator input.sk-toggleable__control:checked~label.sk-toggleable__label {background-color: #d4ebff;}#sk-container-id-1 div.sk-label input.sk-toggleable__control:checked~label.sk-toggleable__label {background-color: #d4ebff;}#sk-container-id-1 input.sk-hidden--visually {border: 0;clip: rect(1px 1px 1px 1px);clip: rect(1px, 1px, 1px, 1px);height: 1px;margin: -1px;overflow: hidden;padding: 0;position: absolute;width: 1px;}#sk-container-id-1 div.sk-estimator {font-family: monospace;background-color: #f0f8ff;border: 1px dotted black;border-radius: 0.25em;box-sizing: border-box;margin-bottom: 0.5em;}#sk-container-id-1 div.sk-estimator:hover {background-color: #d4ebff;}#sk-container-id-1 div.sk-parallel-item::after {content: \"\";width: 100%;border-bottom: 1px solid gray;flex-grow: 1;}#sk-container-id-1 div.sk-label:hover label.sk-toggleable__label {background-color: #d4ebff;}#sk-container-id-1 div.sk-serial::before {content: \"\";position: absolute;border-left: 1px solid gray;box-sizing: border-box;top: 0;bottom: 0;left: 50%;z-index: 0;}#sk-container-id-1 div.sk-serial {display: flex;flex-direction: column;align-items: center;background-color: white;padding-right: 0.2em;padding-left: 0.2em;position: relative;}#sk-container-id-1 div.sk-item {position: relative;z-index: 1;}#sk-container-id-1 div.sk-parallel {display: flex;align-items: stretch;justify-content: center;background-color: white;position: relative;}#sk-container-id-1 div.sk-item::before, #sk-container-id-1 div.sk-parallel-item::before {content: \"\";position: absolute;border-left: 1px solid gray;box-sizing: border-box;top: 0;bottom: 0;left: 50%;z-index: -1;}#sk-container-id-1 div.sk-parallel-item {display: flex;flex-direction: column;z-index: 1;position: relative;background-color: white;}#sk-container-id-1 div.sk-parallel-item:first-child::after {align-self: flex-end;width: 50%;}#sk-container-id-1 div.sk-parallel-item:last-child::after {align-self: flex-start;width: 50%;}#sk-container-id-1 div.sk-parallel-item:only-child::after {width: 0;}#sk-container-id-1 div.sk-dashed-wrapped {border: 1px dashed gray;margin: 0 0.4em 0.5em 0.4em;box-sizing: border-box;padding-bottom: 0.4em;background-color: white;}#sk-container-id-1 div.sk-label label {font-family: monospace;font-weight: bold;display: inline-block;line-height: 1.2em;}#sk-container-id-1 div.sk-label-container {text-align: center;}#sk-container-id-1 div.sk-container {/* jupyter's `normalize.less` sets `[hidden] { display: none; }` but bootstrap.min.css set `[hidden] { display: none !important; }` so we also need the `!important` here to be able to override the default hidden behavior on the sphinx rendered scikit-learn.org. See: https://github.com/scikit-learn/scikit-learn/issues/21755 */display: inline-block !important;position: relative;}#sk-container-id-1 div.sk-text-repr-fallback {display: none;}</style><div id=\"sk-container-id-1\" class=\"sk-top-container\"><div class=\"sk-text-repr-fallback\"><pre>StandardScaler()</pre><b>In a Jupyter environment, please rerun this cell to show the HTML representation or trust the notebook. <br />On GitHub, the HTML representation is unable to render, please try loading this page with nbviewer.org.</b></div><div class=\"sk-container\" hidden><div class=\"sk-item\"><div class=\"sk-estimator sk-toggleable\"><input class=\"sk-toggleable__control sk-hidden--visually\" id=\"sk-estimator-id-1\" type=\"checkbox\" checked><label for=\"sk-estimator-id-1\" class=\"sk-toggleable__label sk-toggleable__label-arrow\">StandardScaler</label><div class=\"sk-toggleable__content\"><pre>StandardScaler()</pre></div></div></div></div></div>"
      ],
      "text/plain": [
       "StandardScaler()"
      ]
     },
     "execution_count": 43,
     "metadata": {},
     "output_type": "execute_result"
    }
   ],
   "source": [
    "scaler = StandardScaler()\n",
    "scaler.fit(X)"
   ]
  },
  {
   "cell_type": "code",
   "execution_count": 44,
   "metadata": {},
   "outputs": [
    {
     "name": "stdout",
     "output_type": "stream",
     "text": [
      "[[ 0.0535978  -0.57863435 -0.97619475 ... -0.40886969  0.42138426\n",
      "   0.78753218]\n",
      " [-0.63957147  0.15241674 -0.37229512 ... -0.07735709  0.42138426\n",
      "   0.78753218]\n",
      " [-0.63957147  0.15241674 -0.67424493 ... -1.0718949   0.42138426\n",
      "   0.78753218]\n",
      " ...\n",
      " [ 0.74676707  0.15241674 -1.58009437 ...  1.24869332 -0.63751275\n",
      "  -1.26978938]\n",
      " [-1.33274075 -1.30968543  1.43940376 ...  0.58566811 -0.63751275\n",
      "   0.78753218]\n",
      " [ 1.43993635  0.88346782 -1.58009437 ... -0.74038229 -0.63751275\n",
      "   0.78753218]]\n"
     ]
    }
   ],
   "source": [
    "standardized_data = scaler.transform(X)\n",
    "print (standardized_data)"
   ]
  },
  {
   "cell_type": "code",
   "execution_count": 45,
   "metadata": {},
   "outputs": [
    {
     "name": "stdout",
     "output_type": "stream",
     "text": [
      "[[ 0.0535978  -0.57863435 -0.97619475 ... -0.40886969  0.42138426\n",
      "   0.78753218]\n",
      " [-0.63957147  0.15241674 -0.37229512 ... -0.07735709  0.42138426\n",
      "   0.78753218]\n",
      " [-0.63957147  0.15241674 -0.67424493 ... -1.0718949   0.42138426\n",
      "   0.78753218]\n",
      " ...\n",
      " [ 0.74676707  0.15241674 -1.58009437 ...  1.24869332 -0.63751275\n",
      "  -1.26978938]\n",
      " [-1.33274075 -1.30968543  1.43940376 ...  0.58566811 -0.63751275\n",
      "   0.78753218]\n",
      " [ 1.43993635  0.88346782 -1.58009437 ... -0.74038229 -0.63751275\n",
      "   0.78753218]]\n",
      "0        609.5\n",
      "1        655.6\n",
      "2        631.6\n",
      "3        622.7\n",
      "4        663.9\n",
      "         ...  \n",
      "15967    644.5\n",
      "15968    714.9\n",
      "15969    716.6\n",
      "15970    682.0\n",
      "15971    651.4\n",
      "Name: WORK_LIFE_BALANCE_SCORE, Length: 15972, dtype: float64\n"
     ]
    }
   ],
   "source": [
    "X = standardized_data\n",
    "Y = life_data1['WORK_LIFE_BALANCE_SCORE']\n",
    "print(X)\n",
    "print(Y)"
   ]
  },
  {
   "cell_type": "markdown",
   "metadata": {},
   "source": [
    "#TRAIN TEST SPLIT\n"
   ]
  },
  {
   "cell_type": "code",
   "execution_count": 46,
   "metadata": {
    "colab": {
     "base_uri": "https://localhost:8080/",
     "height": 328
    },
    "id": "kCxGzuBrbnlX",
    "outputId": "851aaab8-2ff1-49cd-b413-e3b9b578d527"
   },
   "outputs": [],
   "source": [
    "X_train,X_test,Y_train,Y_test = train_test_split(X,Y,test_size=0.2,random_state=0)"
   ]
  },
  {
   "cell_type": "code",
   "execution_count": 47,
   "metadata": {
    "id": "R1dYUPdGesRB"
   },
   "outputs": [
    {
     "name": "stdout",
     "output_type": "stream",
     "text": [
      "(15972, 17) (12777, 17) (3195, 17)\n"
     ]
    }
   ],
   "source": [
    "print(X.shape,X_train.shape,X_test.shape)"
   ]
  },
  {
   "cell_type": "markdown",
   "metadata": {},
   "source": [
    "# MODEL TRAINING"
   ]
  },
  {
   "cell_type": "code",
   "execution_count": 46,
   "metadata": {},
   "outputs": [],
   "source": [
    "#Linear regression\n"
   ]
  },
  {
   "cell_type": "code",
   "execution_count": 48,
   "metadata": {},
   "outputs": [
    {
     "name": "stdout",
     "output_type": "stream",
     "text": [
      "Training Score: 93.54147871211322\n"
     ]
    }
   ],
   "source": [
    "model = LinearRegression()\n",
    "result=model.fit(X_train,Y_train)\n",
    "res=model.score(X_train,Y_train)\n",
    "print(\"Training Score:\",res*100)"
   ]
  },
  {
   "cell_type": "markdown",
   "metadata": {},
   "source": [
    " #PREDICTION"
   ]
  },
  {
   "cell_type": "code",
   "execution_count": 49,
   "metadata": {},
   "outputs": [
    {
     "name": "stdout",
     "output_type": "stream",
     "text": [
      "Testing Score: 93.6866889242879\n"
     ]
    }
   ],
   "source": [
    "predictions = result.predict(X_test)\n",
    "reg_score=r2_score(Y_test,predictions)\n",
    "print(\"Testing Score:\",reg_score*100)"
   ]
  },
  {
   "cell_type": "code",
   "execution_count": 50,
   "metadata": {},
   "outputs": [
    {
     "data": {
      "text/plain": [
       "(12777, 17)"
      ]
     },
     "execution_count": 50,
     "metadata": {},
     "output_type": "execute_result"
    }
   ],
   "source": [
    "X_train.shape"
   ]
  },
  {
   "cell_type": "code",
   "execution_count": 51,
   "metadata": {},
   "outputs": [
    {
     "name": "stdout",
     "output_type": "stream",
     "text": [
      "[736.00075996]\n"
     ]
    }
   ],
   "source": [
    "life=model.predict([[1,2,3,5,0,0,0,0,0,0,0,0,1,0,0,0,0]])\n",
    "print(life)\n",
    "\n"
   ]
  },
  {
   "cell_type": "code",
   "execution_count": 52,
   "metadata": {},
   "outputs": [
    {
     "name": "stdout",
     "output_type": "stream",
     "text": [
      "Your Life-Balance Score is [736.00075996]\n"
     ]
    }
   ],
   "source": [
    "print('Your Life-Balance Score is',life)\n"
   ]
  },
  {
   "cell_type": "code",
   "execution_count": 52,
   "metadata": {},
   "outputs": [],
   "source": [
    "#SAVING THE TRAINED MODEL"
   ]
  },
  {
   "cell_type": "code",
   "execution_count": 56,
   "metadata": {},
   "outputs": [],
   "source": [
    "import pickle"
   ]
  },
  {
   "cell_type": "code",
   "execution_count": 57,
   "metadata": {},
   "outputs": [],
   "source": [
    "pickle.dump(model,open('model.pkl','wb'))"
   ]
  },
  {
   "cell_type": "code",
   "execution_count": 58,
   "metadata": {},
   "outputs": [],
   "source": [
    "#trained_model.sav is created in the miniproject folder.\n",
    "#LOADING THE SAVED MODEL\n",
    "loaded_model = pickle.load(open('model.pkl','rb'))#loading saved model"
   ]
  },
  {
   "cell_type": "code",
   "execution_count": null,
   "metadata": {},
   "outputs": [],
   "source": []
  },
  {
   "cell_type": "code",
   "execution_count": null,
   "metadata": {},
   "outputs": [],
   "source": []
  }
 ],
 "metadata": {
  "colab": {
   "collapsed_sections": [],
   "provenance": []
  },
  "kernelspec": {
   "display_name": "Python 3 (ipykernel)",
   "language": "python",
   "name": "python3"
  },
  "language_info": {
   "codemirror_mode": {
    "name": "ipython",
    "version": 3
   },
   "file_extension": ".py",
   "mimetype": "text/x-python",
   "name": "python",
   "nbconvert_exporter": "python",
   "pygments_lexer": "ipython3",
   "version": "3.10.4"
  }
 },
 "nbformat": 4,
 "nbformat_minor": 1
}
